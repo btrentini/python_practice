{
 "cells": [
  {
   "cell_type": "code",
   "execution_count": 4,
   "metadata": {
    "ExecuteTime": {
     "end_time": "2018-09-24T21:58:35.343830Z",
     "start_time": "2018-09-24T21:58:35.332801Z"
    }
   },
   "outputs": [
    {
     "ename": "SyntaxError",
     "evalue": "Missing parentheses in call to 'print'. Did you mean print(key)? (<ipython-input-4-aa1744f213ee>, line 45)",
     "output_type": "error",
     "traceback": [
      "\u001b[1;36m  File \u001b[1;32m\"<ipython-input-4-aa1744f213ee>\"\u001b[1;36m, line \u001b[1;32m45\u001b[0m\n\u001b[1;33m    print key\u001b[0m\n\u001b[1;37m            ^\u001b[0m\n\u001b[1;31mSyntaxError\u001b[0m\u001b[1;31m:\u001b[0m Missing parentheses in call to 'print'. Did you mean print(key)?\n"
     ]
    }
   ],
   "source": [
    "import win32com.client\n",
    "\n",
    "DEBUG = 0\n",
    "\n",
    "class MSOutlook:\n",
    "    def __init__(self):\n",
    "        self.outlookFound = 0\n",
    "        try:\n",
    "            self.oOutlookApp = \\\n",
    "                win32com.client.gencache.EnsureDispatch(\"Outlook.Application\")\n",
    "            self.outlookFound = 1\n",
    "        except:\n",
    "            print(\"MSOutlook: unable to load Outlook\")\n",
    "        \n",
    "        self.records = []\n",
    "\n",
    "\n",
    "    def loadContacts(self, keys=None):\n",
    "        if not self.outlookFound:\n",
    "            return\n",
    "\n",
    "        # this should use more try/except blocks or nested blocks\n",
    "        onMAPI = self.oOutlookApp.GetNamespace(\"MAPI\")\n",
    "        ofContacts = \\\n",
    "            onMAPI.GetDefaultFolder(win32com.client.constants.olFolderContacts)\n",
    "\n",
    "        if DEBUG:\n",
    "            print(\"number of contacts:\", len(ofContacts.Items))\n",
    "\n",
    "        for oc in range(len(ofContacts.Items)):\n",
    "            contact = ofContacts.Items.Item(oc + 1)\n",
    "            if contact.Class == win32com.client.constants.olContact:\n",
    "                if keys is None:\n",
    "                    # if we were't give a set of keys to use\n",
    "                    # then build up a list of keys that we will be\n",
    "                    # able to process\n",
    "                    # I didn't include fields of type time, though\n",
    "                    # those could probably be interpreted\n",
    "                    keys = []\n",
    "                    for key in contact._prop_map_get_:\n",
    "                        if isinstance(getattr(contact, key), (int, str, unicode)):\n",
    "                            keys.append(key)\n",
    "                    if DEBUG:\n",
    "                        keys.sort()\n",
    "                        print(\"Fields\\n======================================\")\n",
    "                        for key in keys:\n",
    "                            print(key)\n",
    "                record = {}\n",
    "                for key in keys:\n",
    "                    record[key] = getattr(contact, key)\n",
    "                if DEBUG:\n",
    "                    print(oc, record['FullName'])\n",
    "                self.records.append(record)\n",
    "\n",
    "\n",
    "if __name__ == '__main__':\n",
    "    if DEBUG:\n",
    "        print(\"attempting to load Outlook\")\n",
    "    oOutlook = MSOutlook()\n",
    "    # delayed check for Outlook on win32 box\n",
    "    if not oOutlook.outlookFound:\n",
    "        print(\"Outlook not found\")\n",
    "        sys.exit(1)\n",
    "\n",
    "    fields = ['FullName',\n",
    "                'CompanyName', \n",
    "                'MailingAddressStreet',\n",
    "                'MailingAddressCity', \n",
    "                'MailingAddressState', \n",
    "                'MailingAddressPostalCode',\n",
    "                'HomeTelephoneNumber', \n",
    "                'BusinessTelephoneNumber', \n",
    "                'MobileTelephoneNumber',\n",
    "                'Email1Address',\n",
    "                'Body'\n",
    "                ]\n",
    "\n",
    "    if DEBUG:\n",
    "        import time\n",
    "        print(\"loading records...\")\n",
    "        startTime = time.time()\n",
    "    # you can either get all of the data fields\n",
    "    # or just a specific set of fields which is much faster\n",
    "    #oOutlook.loadContacts()\n",
    "    oOutlook.loadContacts(fields)\n",
    "    if DEBUG:\n",
    "        print(\"loading took %f seconds\" % (time.time() - startTime))\n",
    "\n",
    "    print(\"Number of contacts: %d\" % len(oOutlook.records))\n",
    "    print(\"Contact: %s\" % oOutlook.records[0]['FullName'])\n",
    "    print(\"Body:\\n%s\" % oOutlook.records[0]['Body'])"
   ]
  },
  {
   "cell_type": "code",
   "execution_count": null,
   "metadata": {},
   "outputs": [],
   "source": []
  }
 ],
 "metadata": {
  "kernelspec": {
   "display_name": "Python 3",
   "language": "python",
   "name": "python3"
  },
  "language_info": {
   "codemirror_mode": {
    "name": "ipython",
    "version": 3
   },
   "file_extension": ".py",
   "mimetype": "text/x-python",
   "name": "python",
   "nbconvert_exporter": "python",
   "pygments_lexer": "ipython3",
   "version": "3.6.5"
  }
 },
 "nbformat": 4,
 "nbformat_minor": 2
}
