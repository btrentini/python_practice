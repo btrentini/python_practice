{
 "cells": [
  {
   "cell_type": "markdown",
   "metadata": {},
   "source": [
    "# Hadoop"
   ]
  },
  {
   "cell_type": "code",
   "execution_count": 2,
   "metadata": {
    "ExecuteTime": {
     "end_time": "2018-09-17T00:06:44.789172Z",
     "start_time": "2018-09-17T00:06:44.786663Z"
    }
   },
   "outputs": [],
   "source": [
    "# What if larger set of data?\n",
    "# SQL to File instead of Ram?\n",
    "# ---> Distributed Computer!"
   ]
  },
  {
   "cell_type": "code",
   "execution_count": 3,
   "metadata": {
    "ExecuteTime": {
     "end_time": "2018-09-17T00:08:39.695865Z",
     "start_time": "2018-09-17T00:08:39.693358Z"
    }
   },
   "outputs": [],
   "source": [
    "# Hadoop Distributed File System (HDFS): Duplicates blocks for Fault Tolerance. MapReduce: Allows Computation on data"
   ]
  },
  {
   "cell_type": "code",
   "execution_count": 4,
   "metadata": {
    "ExecuteTime": {
     "end_time": "2018-09-17T00:10:20.526003Z",
     "start_time": "2018-09-17T00:10:20.522493Z"
    }
   },
   "outputs": [],
   "source": [
    "# Hadoop breaks your data into 3 blocks of 128mb. Smaller blocks allow more parallelization during processing\n",
    "# Multiple copies of a block prevent loss od data due to a failure in a node\n",
    "\n",
    "### Map Reduce: way of splitting a computation task (Job Tracker to Task Tracker)"
   ]
  },
  {
   "cell_type": "code",
   "execution_count": 5,
   "metadata": {
    "ExecuteTime": {
     "end_time": "2018-09-17T00:10:42.694494Z",
     "start_time": "2018-09-17T00:10:42.691014Z"
    }
   },
   "outputs": [],
   "source": [
    "# HDFS: Distribute Large Data Sets\n",
    "# MapReduce: Distribute Computation"
   ]
  },
  {
   "cell_type": "markdown",
   "metadata": {},
   "source": [
    "# Spark"
   ]
  },
  {
   "cell_type": "code",
   "execution_count": 6,
   "metadata": {
    "ExecuteTime": {
     "end_time": "2018-09-17T00:12:15.861877Z",
     "start_time": "2018-09-17T00:12:15.858866Z"
    }
   },
   "outputs": [],
   "source": [
    "# Latest technologies (Open Source)\n",
    "# Released February 2013\n",
    "# Flexible alternative MapReduce. \n",
    "# uSes data in many formats (HDFS, Cassandra..."
   ]
  },
  {
   "cell_type": "code",
   "execution_count": 8,
   "metadata": {
    "ExecuteTime": {
     "end_time": "2018-09-17T00:13:00.316819Z",
     "start_time": "2018-09-17T00:13:00.314814Z"
    }
   },
   "outputs": [],
   "source": [
    "# Not intended to replace Hadoop. \n",
    "# Spark is 100x faster than map reduce\n",
    "# Spark can spill over to disk if the memory is filled (MapReduce must write to the drive)"
   ]
  },
  {
   "cell_type": "code",
   "execution_count": 9,
   "metadata": {
    "ExecuteTime": {
     "end_time": "2018-09-17T00:13:49.380587Z",
     "start_time": "2018-09-17T00:13:49.378581Z"
    }
   },
   "outputs": [],
   "source": [
    "### Resilient Distributed Dataset\n",
    "# DistributedCollection of data\n",
    "# Fault Tolerant\n",
    "# Parallel Operation - Partitioned\n",
    "# Ability to use many data sources"
   ]
  },
  {
   "cell_type": "code",
   "execution_count": 10,
   "metadata": {
    "ExecuteTime": {
     "end_time": "2018-09-17T00:14:40.982740Z",
     "start_time": "2018-09-17T00:14:40.979734Z"
    }
   },
   "outputs": [],
   "source": [
    "# Allows Multi-step data pipelines"
   ]
  },
  {
   "cell_type": "code",
   "execution_count": null,
   "metadata": {},
   "outputs": [],
   "source": []
  }
 ],
 "metadata": {
  "kernelspec": {
   "display_name": "Python 3",
   "language": "python",
   "name": "python3"
  },
  "language_info": {
   "codemirror_mode": {
    "name": "ipython",
    "version": 3
   },
   "file_extension": ".py",
   "mimetype": "text/x-python",
   "name": "python",
   "nbconvert_exporter": "python",
   "pygments_lexer": "ipython3",
   "version": "3.6.5"
  }
 },
 "nbformat": 4,
 "nbformat_minor": 2
}
