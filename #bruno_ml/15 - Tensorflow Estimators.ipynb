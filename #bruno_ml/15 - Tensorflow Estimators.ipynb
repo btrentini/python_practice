{
 "cells": [
  {
   "cell_type": "code",
   "execution_count": 1,
   "metadata": {
    "ExecuteTime": {
     "end_time": "2018-09-17T23:08:04.005356Z",
     "start_time": "2018-09-17T23:08:03.989759Z"
    }
   },
   "outputs": [],
   "source": [
    "# Estimator object we can use to quickly create models without needing to define the graph"
   ]
  },
  {
   "cell_type": "code",
   "execution_count": 2,
   "metadata": {
    "ExecuteTime": {
     "end_time": "2018-09-17T23:08:05.116200Z",
     "start_time": "2018-09-17T23:08:04.629618Z"
    }
   },
   "outputs": [],
   "source": [
    "import pandas as pd"
   ]
  },
  {
   "cell_type": "code",
   "execution_count": 3,
   "metadata": {
    "ExecuteTime": {
     "end_time": "2018-09-17T23:08:05.604061Z",
     "start_time": "2018-09-17T23:08:05.580790Z"
    }
   },
   "outputs": [],
   "source": [
    "df = pd.read_csv('iris.csv')"
   ]
  },
  {
   "cell_type": "code",
   "execution_count": 4,
   "metadata": {
    "ExecuteTime": {
     "end_time": "2018-09-17T23:08:06.222201Z",
     "start_time": "2018-09-17T23:08:06.193034Z"
    }
   },
   "outputs": [
    {
     "data": {
      "text/html": [
       "<div>\n",
       "<style scoped>\n",
       "    .dataframe tbody tr th:only-of-type {\n",
       "        vertical-align: middle;\n",
       "    }\n",
       "\n",
       "    .dataframe tbody tr th {\n",
       "        vertical-align: top;\n",
       "    }\n",
       "\n",
       "    .dataframe thead th {\n",
       "        text-align: right;\n",
       "    }\n",
       "</style>\n",
       "<table border=\"1\" class=\"dataframe\">\n",
       "  <thead>\n",
       "    <tr style=\"text-align: right;\">\n",
       "      <th></th>\n",
       "      <th>sepal length (cm)</th>\n",
       "      <th>sepal width (cm)</th>\n",
       "      <th>petal length (cm)</th>\n",
       "      <th>petal width (cm)</th>\n",
       "      <th>target</th>\n",
       "    </tr>\n",
       "  </thead>\n",
       "  <tbody>\n",
       "    <tr>\n",
       "      <th>0</th>\n",
       "      <td>5.1</td>\n",
       "      <td>3.5</td>\n",
       "      <td>1.4</td>\n",
       "      <td>0.2</td>\n",
       "      <td>0.0</td>\n",
       "    </tr>\n",
       "    <tr>\n",
       "      <th>1</th>\n",
       "      <td>4.9</td>\n",
       "      <td>3.0</td>\n",
       "      <td>1.4</td>\n",
       "      <td>0.2</td>\n",
       "      <td>0.0</td>\n",
       "    </tr>\n",
       "    <tr>\n",
       "      <th>2</th>\n",
       "      <td>4.7</td>\n",
       "      <td>3.2</td>\n",
       "      <td>1.3</td>\n",
       "      <td>0.2</td>\n",
       "      <td>0.0</td>\n",
       "    </tr>\n",
       "    <tr>\n",
       "      <th>3</th>\n",
       "      <td>4.6</td>\n",
       "      <td>3.1</td>\n",
       "      <td>1.5</td>\n",
       "      <td>0.2</td>\n",
       "      <td>0.0</td>\n",
       "    </tr>\n",
       "    <tr>\n",
       "      <th>4</th>\n",
       "      <td>5.0</td>\n",
       "      <td>3.6</td>\n",
       "      <td>1.4</td>\n",
       "      <td>0.2</td>\n",
       "      <td>0.0</td>\n",
       "    </tr>\n",
       "  </tbody>\n",
       "</table>\n",
       "</div>"
      ],
      "text/plain": [
       "   sepal length (cm)  sepal width (cm)  petal length (cm)  petal width (cm)  \\\n",
       "0                5.1               3.5                1.4               0.2   \n",
       "1                4.9               3.0                1.4               0.2   \n",
       "2                4.7               3.2                1.3               0.2   \n",
       "3                4.6               3.1                1.5               0.2   \n",
       "4                5.0               3.6                1.4               0.2   \n",
       "\n",
       "   target  \n",
       "0     0.0  \n",
       "1     0.0  \n",
       "2     0.0  \n",
       "3     0.0  \n",
       "4     0.0  "
      ]
     },
     "execution_count": 4,
     "metadata": {},
     "output_type": "execute_result"
    }
   ],
   "source": [
    "df.head()"
   ]
  },
  {
   "cell_type": "markdown",
   "metadata": {},
   "source": [
    "# Columns can't have spaces for TF Estimator Object"
   ]
  },
  {
   "cell_type": "code",
   "execution_count": 5,
   "metadata": {
    "ExecuteTime": {
     "end_time": "2018-09-17T23:08:07.056088Z",
     "start_time": "2018-09-17T23:08:07.051070Z"
    }
   },
   "outputs": [
    {
     "data": {
      "text/plain": [
       "Index(['sepal length (cm)', 'sepal width (cm)', 'petal length (cm)',\n",
       "       'petal width (cm)', 'target'],\n",
       "      dtype='object')"
      ]
     },
     "execution_count": 5,
     "metadata": {},
     "output_type": "execute_result"
    }
   ],
   "source": [
    "df.columns"
   ]
  },
  {
   "cell_type": "code",
   "execution_count": 6,
   "metadata": {
    "ExecuteTime": {
     "end_time": "2018-09-17T23:08:07.468129Z",
     "start_time": "2018-09-17T23:08:07.452476Z"
    }
   },
   "outputs": [],
   "source": [
    "df.columns = ['sepal_length', 'sepal_width', 'petal_length', 'petal_width', 'target']"
   ]
  },
  {
   "cell_type": "markdown",
   "metadata": {},
   "source": [
    "# Also the target must be an integer"
   ]
  },
  {
   "cell_type": "code",
   "execution_count": 7,
   "metadata": {
    "ExecuteTime": {
     "end_time": "2018-09-17T23:08:08.368235Z",
     "start_time": "2018-09-17T23:08:08.352642Z"
    }
   },
   "outputs": [],
   "source": [
    "df['target'] = df['target'].apply(int)"
   ]
  },
  {
   "cell_type": "code",
   "execution_count": 8,
   "metadata": {
    "ExecuteTime": {
     "end_time": "2018-09-17T23:08:08.569277Z",
     "start_time": "2018-09-17T23:08:08.553622Z"
    }
   },
   "outputs": [
    {
     "data": {
      "text/html": [
       "<div>\n",
       "<style scoped>\n",
       "    .dataframe tbody tr th:only-of-type {\n",
       "        vertical-align: middle;\n",
       "    }\n",
       "\n",
       "    .dataframe tbody tr th {\n",
       "        vertical-align: top;\n",
       "    }\n",
       "\n",
       "    .dataframe thead th {\n",
       "        text-align: right;\n",
       "    }\n",
       "</style>\n",
       "<table border=\"1\" class=\"dataframe\">\n",
       "  <thead>\n",
       "    <tr style=\"text-align: right;\">\n",
       "      <th></th>\n",
       "      <th>sepal_length</th>\n",
       "      <th>sepal_width</th>\n",
       "      <th>petal_length</th>\n",
       "      <th>petal_width</th>\n",
       "      <th>target</th>\n",
       "    </tr>\n",
       "  </thead>\n",
       "  <tbody>\n",
       "    <tr>\n",
       "      <th>0</th>\n",
       "      <td>5.1</td>\n",
       "      <td>3.5</td>\n",
       "      <td>1.4</td>\n",
       "      <td>0.2</td>\n",
       "      <td>0</td>\n",
       "    </tr>\n",
       "    <tr>\n",
       "      <th>1</th>\n",
       "      <td>4.9</td>\n",
       "      <td>3.0</td>\n",
       "      <td>1.4</td>\n",
       "      <td>0.2</td>\n",
       "      <td>0</td>\n",
       "    </tr>\n",
       "    <tr>\n",
       "      <th>2</th>\n",
       "      <td>4.7</td>\n",
       "      <td>3.2</td>\n",
       "      <td>1.3</td>\n",
       "      <td>0.2</td>\n",
       "      <td>0</td>\n",
       "    </tr>\n",
       "    <tr>\n",
       "      <th>3</th>\n",
       "      <td>4.6</td>\n",
       "      <td>3.1</td>\n",
       "      <td>1.5</td>\n",
       "      <td>0.2</td>\n",
       "      <td>0</td>\n",
       "    </tr>\n",
       "    <tr>\n",
       "      <th>4</th>\n",
       "      <td>5.0</td>\n",
       "      <td>3.6</td>\n",
       "      <td>1.4</td>\n",
       "      <td>0.2</td>\n",
       "      <td>0</td>\n",
       "    </tr>\n",
       "  </tbody>\n",
       "</table>\n",
       "</div>"
      ],
      "text/plain": [
       "   sepal_length  sepal_width  petal_length  petal_width  target\n",
       "0           5.1          3.5           1.4          0.2       0\n",
       "1           4.9          3.0           1.4          0.2       0\n",
       "2           4.7          3.2           1.3          0.2       0\n",
       "3           4.6          3.1           1.5          0.2       0\n",
       "4           5.0          3.6           1.4          0.2       0"
      ]
     },
     "execution_count": 8,
     "metadata": {},
     "output_type": "execute_result"
    }
   ],
   "source": [
    "df.head(5)"
   ]
  },
  {
   "cell_type": "markdown",
   "metadata": {},
   "source": [
    "# Separate X and y"
   ]
  },
  {
   "cell_type": "code",
   "execution_count": 9,
   "metadata": {
    "ExecuteTime": {
     "end_time": "2018-09-17T23:08:08.929356Z",
     "start_time": "2018-09-17T23:08:08.913730Z"
    }
   },
   "outputs": [],
   "source": [
    "y = df['target']"
   ]
  },
  {
   "cell_type": "code",
   "execution_count": 10,
   "metadata": {
    "ExecuteTime": {
     "end_time": "2018-09-17T23:08:09.112610Z",
     "start_time": "2018-09-17T23:08:09.075113Z"
    }
   },
   "outputs": [],
   "source": [
    "X = df.drop('target', axis=1)"
   ]
  },
  {
   "cell_type": "markdown",
   "metadata": {},
   "source": [
    "# train test split"
   ]
  },
  {
   "cell_type": "code",
   "execution_count": 11,
   "metadata": {
    "ExecuteTime": {
     "end_time": "2018-09-17T23:08:09.890669Z",
     "start_time": "2018-09-17T23:08:09.422249Z"
    }
   },
   "outputs": [],
   "source": [
    "from sklearn.model_selection import train_test_split"
   ]
  },
  {
   "cell_type": "code",
   "execution_count": 255,
   "metadata": {
    "ExecuteTime": {
     "end_time": "2018-09-17T23:19:23.682368Z",
     "start_time": "2018-09-17T23:19:23.662619Z"
    }
   },
   "outputs": [],
   "source": [
    "X_train, X_test, y_train, y_test = train_test_split(X,y, test_size=0.3)"
   ]
  },
  {
   "cell_type": "markdown",
   "metadata": {},
   "source": [
    "# Use TENSORFLOW"
   ]
  },
  {
   "cell_type": "code",
   "execution_count": 256,
   "metadata": {
    "ExecuteTime": {
     "end_time": "2018-09-17T23:19:24.521731Z",
     "start_time": "2018-09-17T23:19:24.506599Z"
    }
   },
   "outputs": [],
   "source": [
    "import tensorflow as tf"
   ]
  },
  {
   "cell_type": "code",
   "execution_count": 257,
   "metadata": {
    "ExecuteTime": {
     "end_time": "2018-09-17T23:19:24.891300Z",
     "start_time": "2018-09-17T23:19:24.875580Z"
    }
   },
   "outputs": [],
   "source": [
    "# FEATURE COLUMNS"
   ]
  },
  {
   "cell_type": "code",
   "execution_count": 258,
   "metadata": {
    "ExecuteTime": {
     "end_time": "2018-09-17T23:19:25.255968Z",
     "start_time": "2018-09-17T23:19:25.240360Z"
    }
   },
   "outputs": [
    {
     "data": {
      "text/plain": [
       "Index(['sepal_length', 'sepal_width', 'petal_length', 'petal_width'], dtype='object')"
      ]
     },
     "execution_count": 258,
     "metadata": {},
     "output_type": "execute_result"
    }
   ],
   "source": [
    "X.columns"
   ]
  },
  {
   "cell_type": "code",
   "execution_count": 259,
   "metadata": {
    "ExecuteTime": {
     "end_time": "2018-09-17T23:19:25.808674Z",
     "start_time": "2018-09-17T23:19:25.793042Z"
    }
   },
   "outputs": [],
   "source": [
    "feat_cols = []\n",
    "\n",
    "for col in X.columns:\n",
    "    feat_cols.append(tf.feature_column.numeric_column(col))"
   ]
  },
  {
   "cell_type": "code",
   "execution_count": 260,
   "metadata": {
    "ExecuteTime": {
     "end_time": "2018-09-17T23:19:26.627693Z",
     "start_time": "2018-09-17T23:19:26.612214Z"
    }
   },
   "outputs": [
    {
     "data": {
      "text/plain": [
       "[_NumericColumn(key='sepal_length', shape=(1,), default_value=None, dtype=tf.float32, normalizer_fn=None),\n",
       " _NumericColumn(key='sepal_width', shape=(1,), default_value=None, dtype=tf.float32, normalizer_fn=None),\n",
       " _NumericColumn(key='petal_length', shape=(1,), default_value=None, dtype=tf.float32, normalizer_fn=None),\n",
       " _NumericColumn(key='petal_width', shape=(1,), default_value=None, dtype=tf.float32, normalizer_fn=None)]"
      ]
     },
     "execution_count": 260,
     "metadata": {},
     "output_type": "execute_result"
    }
   ],
   "source": [
    "feat_cols #specialized numeric column object"
   ]
  },
  {
   "cell_type": "code",
   "execution_count": 262,
   "metadata": {
    "ExecuteTime": {
     "end_time": "2018-09-17T23:19:37.570216Z",
     "start_time": "2018-09-17T23:19:37.566204Z"
    }
   },
   "outputs": [],
   "source": [
    "input_func = tf.estimator.inputs.pandas_input_fn(x=X_train, y=y_train, batch_size=3,num_epochs=12, shuffle=True)\n",
    "# Epochs : if ive gone to everysingle training point 5 times, then I've done with it"
   ]
  },
  {
   "cell_type": "code",
   "execution_count": 263,
   "metadata": {
    "ExecuteTime": {
     "end_time": "2018-09-17T23:19:45.826736Z",
     "start_time": "2018-09-17T23:19:45.795481Z"
    }
   },
   "outputs": [
    {
     "name": "stdout",
     "output_type": "stream",
     "text": [
      "INFO:tensorflow:Using default config.\n",
      "WARNING:tensorflow:Using temporary folder as model directory: C:\\Users\\bruno\\AppData\\Local\\Temp\\tmpfj5a7qel\n",
      "INFO:tensorflow:Using config: {'_model_dir': 'C:\\\\Users\\\\bruno\\\\AppData\\\\Local\\\\Temp\\\\tmpfj5a7qel', '_tf_random_seed': None, '_save_summary_steps': 100, '_save_checkpoints_steps': None, '_save_checkpoints_secs': 600, '_session_config': None, '_keep_checkpoint_max': 5, '_keep_checkpoint_every_n_hours': 10000, '_log_step_count_steps': 100, '_train_distribute': None, '_device_fn': None, '_service': None, '_cluster_spec': <tensorflow.python.training.server_lib.ClusterSpec object at 0x000001481E9CBBA8>, '_task_type': 'worker', '_task_id': 0, '_global_id_in_cluster': 0, '_master': '', '_evaluation_master': '', '_is_chief': True, '_num_ps_replicas': 0, '_num_worker_replicas': 1}\n"
     ]
    }
   ],
   "source": [
    "classifier = tf.estimator.DNNClassifier(hidden_units=[10,5, 10], n_classes=3, feature_columns=feat_cols)\n",
    "# First layer 10 neurons\n",
    "# second layer 20 neurons\n",
    "# Third 10 neurons\n",
    "\n",
    "#Nclasses: 3 types of flowr, 2 categories, etc"
   ]
  },
  {
   "cell_type": "code",
   "execution_count": 264,
   "metadata": {
    "ExecuteTime": {
     "end_time": "2018-09-17T23:19:46.642976Z",
     "start_time": "2018-09-17T23:19:46.627393Z"
    }
   },
   "outputs": [],
   "source": [
    "gpu_options = tf.GPUOptions(per_process_gpu_memory_fraction=0.3)\n",
    "sess = tf.Session(config=tf.ConfigProto(\n",
    "  allow_soft_placement=True, log_device_placement=True))"
   ]
  },
  {
   "cell_type": "code",
   "execution_count": null,
   "metadata": {
    "ExecuteTime": {
     "start_time": "2018-09-17T23:19:47.174Z"
    }
   },
   "outputs": [
    {
     "name": "stdout",
     "output_type": "stream",
     "text": [
      "INFO:tensorflow:Calling model_fn.\n",
      "INFO:tensorflow:Done calling model_fn.\n",
      "INFO:tensorflow:Create CheckpointSaverHook.\n",
      "INFO:tensorflow:Graph was finalized.\n"
     ]
    }
   ],
   "source": [
    "with tf.device('/gpu:0'):\n",
    "    classifier.train(input_fn=input_func, steps=150000000000)"
   ]
  },
  {
   "cell_type": "code",
   "execution_count": 250,
   "metadata": {
    "ExecuteTime": {
     "end_time": "2018-09-17T23:19:06.146418Z",
     "start_time": "2018-09-17T23:19:06.130789Z"
    }
   },
   "outputs": [],
   "source": [
    "pred_fn = tf.estimator.inputs.pandas_input_fn(x=X_test, batch_size=len(X_test),shuffle=False)"
   ]
  },
  {
   "cell_type": "code",
   "execution_count": 251,
   "metadata": {
    "ExecuteTime": {
     "end_time": "2018-09-17T23:19:06.995044Z",
     "start_time": "2018-09-17T23:19:06.551520Z"
    }
   },
   "outputs": [
    {
     "name": "stdout",
     "output_type": "stream",
     "text": [
      "INFO:tensorflow:Calling model_fn.\n",
      "INFO:tensorflow:Done calling model_fn.\n",
      "INFO:tensorflow:Graph was finalized.\n",
      "INFO:tensorflow:Restoring parameters from C:\\Users\\bruno\\AppData\\Local\\Temp\\tmp5uvzwq6c\\model.ckpt-150\n",
      "INFO:tensorflow:Running local_init_op.\n",
      "INFO:tensorflow:Done running local_init_op.\n"
     ]
    }
   ],
   "source": [
    "with tf.device('/gpu:0'):\n",
    "    predictions = list(classifier.predict(input_fn=pred_fn))"
   ]
  },
  {
   "cell_type": "code",
   "execution_count": 252,
   "metadata": {
    "ExecuteTime": {
     "end_time": "2018-09-17T23:19:07.576919Z",
     "start_time": "2018-09-17T23:19:07.545664Z"
    }
   },
   "outputs": [
    {
     "data": {
      "text/plain": [
       "[{'logits': array([-1.1319065,  2.459757 ,  2.3296795], dtype=float32),\n",
       "  'probabilities': array([0.01445883, 0.5247747 , 0.46076646], dtype=float32),\n",
       "  'class_ids': array([1], dtype=int64),\n",
       "  'classes': array([b'1'], dtype=object)},\n",
       " {'logits': array([ 3.4357295, -0.3812008, -1.448207 ], dtype=float32),\n",
       "  'probabilities': array([0.9712865 , 0.02136366, 0.00734989], dtype=float32),\n",
       "  'class_ids': array([0], dtype=int64),\n",
       "  'classes': array([b'0'], dtype=object)},\n",
       " {'logits': array([ 3.0146594, -0.3231379, -1.3013148], dtype=float32),\n",
       "  'probabilities': array([0.95340824, 0.03386039, 0.01273137], dtype=float32),\n",
       "  'class_ids': array([0], dtype=int64),\n",
       "  'classes': array([b'0'], dtype=object)},\n",
       " {'logits': array([ 2.8642838 , -0.28724423, -1.244587  ], dtype=float32),\n",
       "  'probabilities': array([0.94409716, 0.04039479, 0.01550804], dtype=float32),\n",
       "  'class_ids': array([0], dtype=int64),\n",
       "  'classes': array([b'0'], dtype=object)},\n",
       " {'logits': array([-4.0179195,  2.5543253,  4.533585 ], dtype=float32),\n",
       "  'probabilities': array([1.69764724e-04, 1.21377155e-01, 8.78453016e-01], dtype=float32),\n",
       "  'class_ids': array([2], dtype=int64),\n",
       "  'classes': array([b'2'], dtype=object)},\n",
       " {'logits': array([-3.6750007,  2.4439468,  4.2294693], dtype=float32),\n",
       "  'probabilities': array([3.1598046e-04, 1.4357719e-01, 8.5610682e-01], dtype=float32),\n",
       "  'class_ids': array([2], dtype=int64),\n",
       "  'classes': array([b'2'], dtype=object)},\n",
       " {'logits': array([-3.1115255,  2.3036816,  3.728404 ], dtype=float32),\n",
       "  'probabilities': array([0.0008619 , 0.19375518, 0.80538297], dtype=float32),\n",
       "  'class_ids': array([2], dtype=int64),\n",
       "  'classes': array([b'2'], dtype=object)},\n",
       " {'logits': array([ 2.8157887 , -0.29571488, -1.2319379 ], dtype=float32),\n",
       "  'probabilities': array([0.94162315, 0.04193419, 0.01644265], dtype=float32),\n",
       "  'class_ids': array([0], dtype=int64),\n",
       "  'classes': array([b'0'], dtype=object)},\n",
       " {'logits': array([-1.6564701,  2.400171 ,  2.7172892], dtype=float32),\n",
       "  'probabilities': array([0.00724002, 0.41832745, 0.57443255], dtype=float32),\n",
       "  'class_ids': array([2], dtype=int64),\n",
       "  'classes': array([b'2'], dtype=object)},\n",
       " {'logits': array([-3.2843544,  2.492858 ,  3.9518147], dtype=float32),\n",
       "  'probabilities': array([5.839003e-04, 1.885168e-01, 8.108993e-01], dtype=float32),\n",
       "  'class_ids': array([2], dtype=int64),\n",
       "  'classes': array([b'2'], dtype=object)},\n",
       " {'logits': array([-4.2083836,  2.6199796,  4.7070236], dtype=float32),\n",
       "  'probabilities': array([1.1946732e-04, 1.1034928e-01, 8.8953125e-01], dtype=float32),\n",
       "  'class_ids': array([2], dtype=int64),\n",
       "  'classes': array([b'2'], dtype=object)},\n",
       " {'logits': array([-3.6296015,  2.564489 ,  4.2913113], dtype=float32),\n",
       "  'probabilities': array([3.0815412e-04, 1.5094796e-01, 8.4874392e-01], dtype=float32),\n",
       "  'class_ids': array([2], dtype=int64),\n",
       "  'classes': array([b'2'], dtype=object)},\n",
       " {'logits': array([-1.7207503,  2.2865434,  2.6660578], dtype=float32),\n",
       "  'probabilities': array([0.00733238, 0.40326527, 0.5894024 ], dtype=float32),\n",
       "  'class_ids': array([2], dtype=int64),\n",
       "  'classes': array([b'2'], dtype=object)},\n",
       " {'logits': array([-1.2406936,  2.240825 ,  2.284146 ], dtype=float32),\n",
       "  'probabilities': array([0.01482418, 0.48191985, 0.50325596], dtype=float32),\n",
       "  'class_ids': array([2], dtype=int64),\n",
       "  'classes': array([b'2'], dtype=object)},\n",
       " {'logits': array([ 3.18132   , -0.29300734, -1.3444978 ], dtype=float32),\n",
       "  'probabilities': array([0.9598693 , 0.02973931, 0.01039141], dtype=float32),\n",
       "  'class_ids': array([0], dtype=int64),\n",
       "  'classes': array([b'0'], dtype=object)},\n",
       " {'logits': array([-3.1037784,  2.3626754,  3.7076192], dtype=float32),\n",
       "  'probabilities': array([0.00087278, 0.20651783, 0.79260933], dtype=float32),\n",
       "  'class_ids': array([2], dtype=int64),\n",
       "  'classes': array([b'2'], dtype=object)},\n",
       " {'logits': array([-3.0509782,  2.456608 ,  3.765092 ], dtype=float32),\n",
       "  'probabilities': array([0.00086211, 0.21255726, 0.7865806 ], dtype=float32),\n",
       "  'class_ids': array([2], dtype=int64),\n",
       "  'classes': array([b'2'], dtype=object)},\n",
       " {'logits': array([-3.350304 ,  2.2032118,  3.819633 ], dtype=float32),\n",
       "  'probabilities': array([6.4147532e-04, 1.6559272e-01, 8.3376580e-01], dtype=float32),\n",
       "  'class_ids': array([2], dtype=int64),\n",
       "  'classes': array([b'2'], dtype=object)},\n",
       " {'logits': array([-0.3396123,  1.8945582,  1.3605227], dtype=float32),\n",
       "  'probabilities': array([0.06323744, 0.59055746, 0.34620512], dtype=float32),\n",
       "  'class_ids': array([1], dtype=int64),\n",
       "  'classes': array([b'1'], dtype=object)},\n",
       " {'logits': array([-1.1154346,  2.1787527,  2.1419005], dtype=float32),\n",
       "  'probabilities': array([0.01854059, 0.49977088, 0.4816885 ], dtype=float32),\n",
       "  'class_ids': array([1], dtype=int64),\n",
       "  'classes': array([b'1'], dtype=object)},\n",
       " {'logits': array([ 3.3194652, -0.3651687, -1.4076477], dtype=float32),\n",
       "  'probabilities': array([0.967157  , 0.0242818 , 0.00856126], dtype=float32),\n",
       "  'class_ids': array([0], dtype=int64),\n",
       "  'classes': array([b'0'], dtype=object)},\n",
       " {'logits': array([ 3.5593417 , -0.39824614, -1.4913297 ], dtype=float32),\n",
       "  'probabilities': array([0.97512066, 0.01863373, 0.00624568], dtype=float32),\n",
       "  'class_ids': array([0], dtype=int64),\n",
       "  'classes': array([b'0'], dtype=object)},\n",
       " {'logits': array([-3.0295818,  2.2876503,  3.5950599], dtype=float32),\n",
       "  'probabilities': array([0.00104357, 0.21269846, 0.7862579 ], dtype=float32),\n",
       "  'class_ids': array([2], dtype=int64),\n",
       "  'classes': array([b'2'], dtype=object)},\n",
       " {'logits': array([ 2.6081479 , -0.0433042 , -0.99862254], dtype=float32),\n",
       "  'probabilities': array([0.91100574, 0.06427027, 0.0247241 ], dtype=float32),\n",
       "  'class_ids': array([0], dtype=int64),\n",
       "  'classes': array([b'0'], dtype=object)},\n",
       " {'logits': array([-1.1852252,  2.4075878,  2.3590126], dtype=float32),\n",
       "  'probabilities': array([0.01389865, 0.50502336, 0.48107803], dtype=float32),\n",
       "  'class_ids': array([1], dtype=int64),\n",
       "  'classes': array([b'1'], dtype=object)},\n",
       " {'logits': array([ 3.048208  , -0.32776403, -1.3130184 ], dtype=float32),\n",
       "  'probabilities': array([0.95515764, 0.03265194, 0.01219041], dtype=float32),\n",
       "  'class_ids': array([0], dtype=int64),\n",
       "  'classes': array([b'0'], dtype=object)},\n",
       " {'logits': array([-0.8023718,  2.0872548,  1.8214803], dtype=float32),\n",
       "  'probabilities': array([0.03051076, 0.5487845 , 0.42070478], dtype=float32),\n",
       "  'class_ids': array([1], dtype=int64),\n",
       "  'classes': array([b'1'], dtype=object)},\n",
       " {'logits': array([ 2.7979894 , -0.29326048, -1.2257286 ], dtype=float32),\n",
       "  'probabilities': array([0.9404406 , 0.04273843, 0.01682104], dtype=float32),\n",
       "  'class_ids': array([0], dtype=int64),\n",
       "  'classes': array([b'0'], dtype=object)},\n",
       " {'logits': array([-2.9757843,  2.3214436,  3.616225 ], dtype=float32),\n",
       "  'probabilities': array([0.00107524, 0.21481338, 0.7841114 ], dtype=float32),\n",
       "  'class_ids': array([2], dtype=int64),\n",
       "  'classes': array([b'2'], dtype=object)},\n",
       " {'logits': array([-3.9556284,  2.5403023,  4.462481 ], dtype=float32),\n",
       "  'probabilities': array([1.9261228e-04, 1.2759422e-01, 8.7221318e-01], dtype=float32),\n",
       "  'class_ids': array([2], dtype=int64),\n",
       "  'classes': array([b'2'], dtype=object)},\n",
       " {'logits': array([-2.4801023,  2.2897336,  3.2596574], dtype=float32),\n",
       "  'probabilities': array([0.00232618, 0.27425623, 0.7234176 ], dtype=float32),\n",
       "  'class_ids': array([2], dtype=int64),\n",
       "  'classes': array([b'2'], dtype=object)},\n",
       " {'logits': array([-2.5385666,  2.30339  ,  3.293714 ], dtype=float32),\n",
       "  'probabilities': array([0.00213287, 0.27027038, 0.7275967 ], dtype=float32),\n",
       "  'class_ids': array([2], dtype=int64),\n",
       "  'classes': array([b'2'], dtype=object)},\n",
       " {'logits': array([-3.5989232,  2.340258 ,  4.05016  ], dtype=float32),\n",
       "  'probabilities': array([4.0333241e-04, 1.5311465e-01, 8.4648204e-01], dtype=float32),\n",
       "  'class_ids': array([2], dtype=int64),\n",
       "  'classes': array([b'2'], dtype=object)},\n",
       " {'logits': array([-0.8032177,  2.382268 ,  2.0346036], dtype=float32),\n",
       "  'probabilities': array([0.02366441, 0.57218254, 0.40415308], dtype=float32),\n",
       "  'class_ids': array([1], dtype=int64),\n",
       "  'classes': array([b'1'], dtype=object)},\n",
       " {'logits': array([-3.4466367,  2.2585185,  3.8875198], dtype=float32),\n",
       "  'probabilities': array([5.4550992e-04, 1.6387776e-01, 8.3557671e-01], dtype=float32),\n",
       "  'class_ids': array([2], dtype=int64),\n",
       "  'classes': array([b'2'], dtype=object)},\n",
       " {'logits': array([-1.2093365,  2.1934652,  2.2309873], dtype=float32),\n",
       "  'probabilities': array([0.01606549, 0.48273852, 0.50119597], dtype=float32),\n",
       "  'class_ids': array([2], dtype=int64),\n",
       "  'classes': array([b'2'], dtype=object)},\n",
       " {'logits': array([-2.5294955,  2.4097512,  3.3430457], dtype=float32),\n",
       "  'probabilities': array([0.00201688, 0.2816875 , 0.7162956 ], dtype=float32),\n",
       "  'class_ids': array([2], dtype=int64),\n",
       "  'classes': array([b'2'], dtype=object)},\n",
       " {'logits': array([ 2.953338  , -0.31468207, -1.2799226 ], dtype=float32),\n",
       "  'probabilities': array([0.9500404 , 0.03617921, 0.01378035], dtype=float32),\n",
       "  'class_ids': array([0], dtype=int64),\n",
       "  'classes': array([b'0'], dtype=object)}]"
      ]
     },
     "execution_count": 252,
     "metadata": {},
     "output_type": "execute_result"
    }
   ],
   "source": [
    "predictions"
   ]
  },
  {
   "cell_type": "code",
   "execution_count": 253,
   "metadata": {
    "ExecuteTime": {
     "end_time": "2018-09-17T23:19:08.387137Z",
     "start_time": "2018-09-17T23:19:08.371511Z"
    }
   },
   "outputs": [],
   "source": [
    "final_preds = []\n",
    "\n",
    "for pred in predictions:\n",
    "    final_preds.append(pred['class_ids'][0])"
   ]
  },
  {
   "cell_type": "code",
   "execution_count": 254,
   "metadata": {
    "ExecuteTime": {
     "end_time": "2018-09-17T23:19:09.269373Z",
     "start_time": "2018-09-17T23:19:09.071566Z"
    }
   },
   "outputs": [
    {
     "name": "stdout",
     "output_type": "stream",
     "text": [
      "\n",
      "\t             precision    recall  f1-score   support\n",
      "\n",
      "          0       1.00      1.00      1.00        11\n",
      "          1       1.00      0.50      0.67        12\n",
      "          2       0.71      1.00      0.83        15\n",
      "\n",
      "avg / total       0.89      0.84      0.83        38\n",
      "\n"
     ]
    },
    {
     "data": {
      "text/plain": [
       "Text(0.5,15,'Predicted label')"
      ]
     },
     "execution_count": 254,
     "metadata": {},
     "output_type": "execute_result"
    },
    {
     "data": {
      "image/png": "[encoded data removed]",
      "text/plain": [
       "<Figure size 432x288 with 2 Axes>"
      ]
     },
     "metadata": {},
     "output_type": "display_data"
    }
   ],
   "source": [
    "from sklearn.metrics import classification_report, confusion_matrix\n",
    "import seaborn as sns\n",
    "import matplotlib.pyplot as plt\n",
    "%matplotlib inline\n",
    "\n",
    "print(f\"\\n\\t{classification_report(y_test, final_preds)}\")\n",
    "cfm = confusion_matrix(y_test, final_preds)\n",
    "confusion_matrix_df = pd.DataFrame(cfm, ('0', '1', '2'), ('0', '1', '2'))\n",
    "heatmap = sns.heatmap(confusion_matrix_df, annot=True, annot_kws={\"size\": 20}, fmt=\"d\")\n",
    "heatmap.yaxis.set_ticklabels(heatmap.yaxis.get_ticklabels(), rotation=0, ha='right', fontsize = 14)\n",
    "heatmap.xaxis.set_ticklabels(heatmap.xaxis.get_ticklabels(), rotation=45, ha='right', fontsize = 14)\n",
    "plt.ylabel('True label', fontsize = 14)\n",
    "plt.xlabel('Predicted label', fontsize = 14)"
   ]
  },
  {
   "cell_type": "code",
   "execution_count": null,
   "metadata": {},
   "outputs": [],
   "source": []
  },
  {
   "cell_type": "code",
   "execution_count": null,
   "metadata": {},
   "outputs": [],
   "source": []
  }
 ],
 "metadata": {
  "kernelspec": {
   "display_name": "Python 3",
   "language": "python",
   "name": "python3"
  },
  "language_info": {
   "codemirror_mode": {
    "name": "ipython",
    "version": 3
   },
   "file_extension": ".py",
   "mimetype": "text/x-python",
   "name": "python",
   "nbconvert_exporter": "python",
   "pygments_lexer": "ipython3",
   "version": "3.6.5"
  }
 },
 "nbformat": 4,
 "nbformat_minor": 2
}
