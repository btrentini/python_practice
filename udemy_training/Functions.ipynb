{
 "cells": [
  {
   "cell_type": "code",
   "execution_count": 3,
   "metadata": {},
   "outputs": [
    {
     "name": "stdout",
     "output_type": "stream",
     "text": [
      "Hello Jose\n",
      "Jose!\n"
     ]
    }
   ],
   "source": [
    "#Creating Functions\n",
    "def hello_world(name):\n",
    "    print(f\"Hello {name}\")\n",
    "    return name + \"!\"\n",
    "\n",
    "print(hello_world(\"Jose\"))"
   ]
  },
  {
   "cell_type": "code",
   "execution_count": 8,
   "metadata": {},
   "outputs": [],
   "source": [
    "def name_function():\n",
    "    '''\n",
    "    DOCSTRING: TEST DOCSTRING WITH DOCUMENTATION\n",
    "    INPUT: HELLO\n",
    "    PUTPUT: HLLO\n",
    "    '''\n",
    "    print(\"Hello\")"
   ]
  },
  {
   "cell_type": "code",
   "execution_count": 9,
   "metadata": {},
   "outputs": [
    {
     "name": "stdout",
     "output_type": "stream",
     "text": [
      "Help on function name_function in module __main__:\n",
      "\n",
      "name_function()\n",
      "    DOCSTRING: TEST DOCSTRING WITH DOCUMENTATION\n",
      "    INPUT: HELLO\n",
      "    PUTPUT: HLLO\n",
      "\n"
     ]
    }
   ],
   "source": [
    "help(name_function)"
   ]
  },
  {
   "cell_type": "code",
   "execution_count": 10,
   "metadata": {},
   "outputs": [
    {
     "name": "stdout",
     "output_type": "stream",
     "text": [
      "Hello No name provided\n",
      "No name provided!\n"
     ]
    }
   ],
   "source": [
    "#Creating Functions with Default\n",
    "def hello_world(name=\"No name provided\"):\n",
    "    print(f\"Hello {name}\")\n",
    "    return name + \"!\"\n",
    "\n",
    "print(hello_world())"
   ]
  },
  {
   "cell_type": "code",
   "execution_count": 15,
   "metadata": {},
   "outputs": [
    {
     "name": "stdout",
     "output_type": "stream",
     "text": [
      "Hello <none>\n",
      "'<none>!' is what has been returned\n"
     ]
    }
   ],
   "source": [
    "#Creating Functions with Variable\n",
    "def hello_world(name=\"<none>\"):\n",
    "    print(f\"Hello {name}\")\n",
    "    return name + \"!\"\n",
    "\n",
    "nome = hello_world()\n",
    "print(f\"'{nome}' is what has been returned\")"
   ]
  },
  {
   "cell_type": "code",
   "execution_count": 16,
   "metadata": {},
   "outputs": [
    {
     "name": "stdout",
     "output_type": "stream",
     "text": [
      "6\n"
     ]
    }
   ],
   "source": [
    "def adding(n,i):\n",
    "    return n+i\n",
    "\n",
    "result = adding(3,3)\n",
    "print(result)"
   ]
  },
  {
   "cell_type": "code",
   "execution_count": 29,
   "metadata": {},
   "outputs": [],
   "source": [
    "#Find our if word dog is in a string\n",
    "def dog_check(s):\n",
    "    return 'dog' in s.lower()"
   ]
  },
  {
   "cell_type": "code",
   "execution_count": 30,
   "metadata": {},
   "outputs": [
    {
     "data": {
      "text/plain": [
       "True"
      ]
     },
     "execution_count": 30,
     "metadata": {},
     "output_type": "execute_result"
    }
   ],
   "source": [
    "dog_check('My DOg ran away')"
   ]
  },
  {
   "cell_type": "code",
   "execution_count": 46,
   "metadata": {},
   "outputs": [],
   "source": [
    "def pig_latin(word):\n",
    "    if word[0].lower() in ['a','e','i','o','i']:\n",
    "        return word+'ay'\n",
    "    else:\n",
    "        return word[1:]+word[0]+'ay'\n"
   ]
  },
  {
   "cell_type": "code",
   "execution_count": 42,
   "metadata": {},
   "outputs": [
    {
     "data": {
      "text/plain": [
       "'appleay'"
      ]
     },
     "execution_count": 42,
     "metadata": {},
     "output_type": "execute_result"
    }
   ],
   "source": [
    "pig_latin('apple')"
   ]
  },
  {
   "cell_type": "code",
   "execution_count": 48,
   "metadata": {},
   "outputs": [],
   "source": [
    "def pig_latin_v2(word):\n",
    "    if word[0].lower() in 'aeiou':\n",
    "        return word+'ay'\n",
    "    else:\n",
    "        return word[1:]+word[0]+'ay'"
   ]
  },
  {
   "cell_type": "code",
   "execution_count": 44,
   "metadata": {},
   "outputs": [
    {
     "data": {
      "text/plain": [
       "'appleay'"
      ]
     },
     "execution_count": 44,
     "metadata": {},
     "output_type": "execute_result"
    }
   ],
   "source": [
    "pig_latin('apple')"
   ]
  },
  {
   "cell_type": "code",
   "execution_count": null,
   "metadata": {},
   "outputs": [],
   "source": []
  }
 ],
 "metadata": {
  "kernelspec": {
   "display_name": "Python 3",
   "language": "python",
   "name": "python3"
  },
  "language_info": {
   "codemirror_mode": {
    "name": "ipython",
    "version": 3
   },
   "file_extension": ".py",
   "mimetype": "text/x-python",
   "name": "python",
   "nbconvert_exporter": "python",
   "pygments_lexer": "ipython3",
   "version": "3.6.5"
  }
 },
 "nbformat": 4,
 "nbformat_minor": 2
}
