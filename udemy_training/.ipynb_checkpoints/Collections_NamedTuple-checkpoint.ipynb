{
 "cells": [
  {
   "cell_type": "code",
   "execution_count": 1,
   "metadata": {
    "ExecuteTime": {
     "end_time": "2018-08-27T22:47:14.207779Z",
     "start_time": "2018-08-27T22:47:14.204773Z"
    }
   },
   "outputs": [],
   "source": [
    "#Sometimes it's hard to remember which index an item is in a tuple\n",
    "# NamedTuple assigns a name and a number to a Tuple"
   ]
  },
  {
   "cell_type": "code",
   "execution_count": 2,
   "metadata": {
    "ExecuteTime": {
     "end_time": "2018-08-27T22:47:21.567232Z",
     "start_time": "2018-08-27T22:47:21.564211Z"
    }
   },
   "outputs": [],
   "source": [
    "from collections import namedtuple"
   ]
  },
  {
   "cell_type": "code",
   "execution_count": 3,
   "metadata": {
    "ExecuteTime": {
     "end_time": "2018-08-27T22:48:00.418942Z",
     "start_time": "2018-08-27T22:48:00.413927Z"
    }
   },
   "outputs": [],
   "source": [
    "Dog = namedtuple('Dog', 'age breed name')"
   ]
  },
  {
   "cell_type": "code",
   "execution_count": 4,
   "metadata": {
    "ExecuteTime": {
     "end_time": "2018-08-27T22:48:18.975982Z",
     "start_time": "2018-08-27T22:48:18.972473Z"
    }
   },
   "outputs": [],
   "source": [
    "sam = Dog(age=2,breed='lab',name='Sammy')"
   ]
  },
  {
   "cell_type": "code",
   "execution_count": 5,
   "metadata": {
    "ExecuteTime": {
     "end_time": "2018-08-27T22:48:21.000426Z",
     "start_time": "2018-08-27T22:48:20.987359Z"
    }
   },
   "outputs": [
    {
     "data": {
      "text/plain": [
       "Dog(age=2, breed='lab', name='Sammy')"
      ]
     },
     "execution_count": 5,
     "metadata": {},
     "output_type": "execute_result"
    }
   ],
   "source": [
    "sam"
   ]
  },
  {
   "cell_type": "code",
   "execution_count": 6,
   "metadata": {
    "ExecuteTime": {
     "end_time": "2018-08-27T22:48:26.128423Z",
     "start_time": "2018-08-27T22:48:26.121909Z"
    }
   },
   "outputs": [
    {
     "data": {
      "text/plain": [
       "2"
      ]
     },
     "execution_count": 6,
     "metadata": {},
     "output_type": "execute_result"
    }
   ],
   "source": [
    "sam.age"
   ]
  },
  {
   "cell_type": "code",
   "execution_count": 10,
   "metadata": {
    "ExecuteTime": {
     "end_time": "2018-08-27T22:48:59.294032Z",
     "start_time": "2018-08-27T22:48:59.289020Z"
    }
   },
   "outputs": [
    {
     "data": {
      "text/plain": [
       "'Sammy'"
      ]
     },
     "execution_count": 10,
     "metadata": {},
     "output_type": "execute_result"
    }
   ],
   "source": [
    "sam[2]"
   ]
  },
  {
   "cell_type": "code",
   "execution_count": 11,
   "metadata": {
    "ExecuteTime": {
     "end_time": "2018-08-27T22:49:18.189136Z",
     "start_time": "2018-08-27T22:49:18.184631Z"
    }
   },
   "outputs": [],
   "source": [
    "Cat = namedtuple('Cat', 'fur claws name')"
   ]
  },
  {
   "cell_type": "code",
   "execution_count": 12,
   "metadata": {
    "ExecuteTime": {
     "end_time": "2018-08-27T22:49:40.991434Z",
     "start_time": "2018-08-27T22:49:40.987454Z"
    }
   },
   "outputs": [],
   "source": [
    "c = Cat(fur='fuzzy', claws=False, name='Kitty')"
   ]
  },
  {
   "cell_type": "code",
   "execution_count": 13,
   "metadata": {
    "ExecuteTime": {
     "end_time": "2018-08-27T22:49:43.419334Z",
     "start_time": "2018-08-27T22:49:43.413807Z"
    }
   },
   "outputs": [
    {
     "data": {
      "text/plain": [
       "Cat(fur='fuzzy', claws=False, name='Kitty')"
      ]
     },
     "execution_count": 13,
     "metadata": {},
     "output_type": "execute_result"
    }
   ],
   "source": [
    "c"
   ]
  },
  {
   "cell_type": "code",
   "execution_count": 14,
   "metadata": {
    "ExecuteTime": {
     "end_time": "2018-08-27T22:49:51.577154Z",
     "start_time": "2018-08-27T22:49:51.570635Z"
    }
   },
   "outputs": [
    {
     "data": {
      "text/plain": [
       "'Kitty'"
      ]
     },
     "execution_count": 14,
     "metadata": {},
     "output_type": "execute_result"
    }
   ],
   "source": [
    "c.name"
   ]
  },
  {
   "cell_type": "code",
   "execution_count": 15,
   "metadata": {
    "ExecuteTime": {
     "end_time": "2018-08-27T22:49:56.390773Z",
     "start_time": "2018-08-27T22:49:56.385299Z"
    }
   },
   "outputs": [
    {
     "data": {
      "text/plain": [
       "'Kitty'"
      ]
     },
     "execution_count": 15,
     "metadata": {},
     "output_type": "execute_result"
    }
   ],
   "source": [
    "c[2]"
   ]
  },
  {
   "cell_type": "code",
   "execution_count": 17,
   "metadata": {
    "ExecuteTime": {
     "end_time": "2018-08-27T22:50:17.133097Z",
     "start_time": "2018-08-27T22:50:17.129588Z"
    }
   },
   "outputs": [],
   "source": [
    "# Named Tuples is better when just a Tuple may lead to errors"
   ]
  },
  {
   "cell_type": "code",
   "execution_count": null,
   "metadata": {},
   "outputs": [],
   "source": []
  }
 ],
 "metadata": {
  "kernelspec": {
   "display_name": "Python 3",
   "language": "python",
   "name": "python3"
  },
  "language_info": {
   "codemirror_mode": {
    "name": "ipython",
    "version": 3
   },
   "file_extension": ".py",
   "mimetype": "text/x-python",
   "name": "python",
   "nbconvert_exporter": "python",
   "pygments_lexer": "ipython3",
   "version": "3.6.5"
  }
 },
 "nbformat": 4,
 "nbformat_minor": 2
}
