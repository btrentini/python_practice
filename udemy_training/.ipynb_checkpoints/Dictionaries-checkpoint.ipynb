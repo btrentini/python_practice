{
 "cells": [
  {
   "cell_type": "markdown",
   "metadata": {},
   "source": [
    "## DICTIONARIES\n",
    "Unordered mappings for storing objects\n",
    "Use a key-value\n",
    "use curly braces and colons to signify the keys and their associated values\n",
    "#### When List or when dictionary?\n",
    "R: Lists: objects retrieved by location. Can be sorted and indexed; Dictionary: Objects retrieved by key. Can't be sorted. Don't retain order and are not a sequence"
   ]
  },
  {
   "cell_type": "code",
   "execution_count": 130,
   "metadata": {},
   "outputs": [],
   "source": [
    "dict =  {'key1': 'value1'\n",
    "         ,'key2': 'value2'}"
   ]
  },
  {
   "cell_type": "code",
   "execution_count": 131,
   "metadata": {},
   "outputs": [
    {
     "data": {
      "text/plain": [
       "{'key1': 'value1', 'key2': 'value2'}"
      ]
     },
     "execution_count": 131,
     "metadata": {},
     "output_type": "execute_result"
    }
   ],
   "source": [
    "dict"
   ]
  },
  {
   "cell_type": "code",
   "execution_count": 132,
   "metadata": {},
   "outputs": [
    {
     "data": {
      "text/plain": [
       "'value1'"
      ]
     },
     "execution_count": 132,
     "metadata": {},
     "output_type": "execute_result"
    }
   ],
   "source": [
    "dict['key1']"
   ]
  },
  {
   "cell_type": "code",
   "execution_count": 133,
   "metadata": {},
   "outputs": [],
   "source": [
    "prices_lookup = {'apple': 999.99, 'samsung': 888.88, 'huaweii': 333.33}"
   ]
  },
  {
   "cell_type": "code",
   "execution_count": 134,
   "metadata": {},
   "outputs": [
    {
     "data": {
      "text/plain": [
       "999.99"
      ]
     },
     "execution_count": 134,
     "metadata": {},
     "output_type": "execute_result"
    }
   ],
   "source": [
    "prices_lookup['apple']"
   ]
  },
  {
   "cell_type": "code",
   "execution_count": 135,
   "metadata": {},
   "outputs": [],
   "source": [
    "test_keys = {'product_a': [0,1,2,3]\n",
    "            ,'product_b': ['a', 'b', ['c1', ['c2a', 'c2b'], 'c3']]\n",
    "            ,'product_c': ['none']}"
   ]
  },
  {
   "cell_type": "code",
   "execution_count": 136,
   "metadata": {},
   "outputs": [
    {
     "data": {
      "text/plain": [
       "'b'"
      ]
     },
     "execution_count": 136,
     "metadata": {},
     "output_type": "execute_result"
    }
   ],
   "source": [
    "test_keys['product_b'][1]"
   ]
  },
  {
   "cell_type": "code",
   "execution_count": 137,
   "metadata": {},
   "outputs": [
    {
     "data": {
      "text/plain": [
       "['c2a', 'c2b']"
      ]
     },
     "execution_count": 137,
     "metadata": {},
     "output_type": "execute_result"
    }
   ],
   "source": [
    "test_keys['product_b'][2][1]"
   ]
  },
  {
   "cell_type": "code",
   "execution_count": 138,
   "metadata": {},
   "outputs": [
    {
     "data": {
      "text/plain": [
       "'c2a'"
      ]
     },
     "execution_count": 138,
     "metadata": {},
     "output_type": "execute_result"
    }
   ],
   "source": [
    "test_keys['product_b'][2][1][0]"
   ]
  },
  {
   "cell_type": "code",
   "execution_count": 139,
   "metadata": {},
   "outputs": [
    {
     "data": {
      "text/plain": [
       "['none']"
      ]
     },
     "execution_count": 139,
     "metadata": {},
     "output_type": "execute_result"
    }
   ],
   "source": [
    "test_keys['product_c']"
   ]
  },
  {
   "cell_type": "code",
   "execution_count": 140,
   "metadata": {},
   "outputs": [
    {
     "data": {
      "text/plain": [
       "['c2b', 'c2a']"
      ]
     },
     "execution_count": 140,
     "metadata": {},
     "output_type": "execute_result"
    }
   ],
   "source": [
    "test_keys['product_b'][2][1][::-1]"
   ]
  },
  {
   "cell_type": "code",
   "execution_count": 141,
   "metadata": {},
   "outputs": [],
   "source": [
    "a = test_keys['product_b'][2][1][::-1].pop()"
   ]
  },
  {
   "cell_type": "code",
   "execution_count": 142,
   "metadata": {},
   "outputs": [
    {
     "data": {
      "text/plain": [
       "'c2a'"
      ]
     },
     "execution_count": 142,
     "metadata": {},
     "output_type": "execute_result"
    }
   ],
   "source": [
    "a"
   ]
  },
  {
   "cell_type": "code",
   "execution_count": 143,
   "metadata": {},
   "outputs": [],
   "source": [
    "test_keys = {'product_a': [0,1,2,3]\n",
    "            ,'product_b': ['a', 'b', ['c1', ['c2a', 'c2b'], 'c3']]\n",
    "            ,'product_c': {'dict_1': ['d1','d2']\n",
    "                          ,'dict_2': ['none', 1]\n",
    "                          }\n",
    "            }"
   ]
  },
  {
   "cell_type": "code",
   "execution_count": 144,
   "metadata": {},
   "outputs": [
    {
     "data": {
      "text/plain": [
       "'D2'"
      ]
     },
     "execution_count": 144,
     "metadata": {},
     "output_type": "execute_result"
    }
   ],
   "source": [
    "test_keys['product_c']['dict_1'][1].upper()"
   ]
  },
  {
   "cell_type": "code",
   "execution_count": 145,
   "metadata": {},
   "outputs": [
    {
     "name": "stdout",
     "output_type": "stream",
     "text": [
      "D2 para manter o respeito!\n"
     ]
    }
   ],
   "source": [
    "print(f\"{test_keys['product_c']['dict_1'][1].upper()} para manter o respeito!\")"
   ]
  },
  {
   "cell_type": "code",
   "execution_count": 146,
   "metadata": {},
   "outputs": [
    {
     "name": "stdout",
     "output_type": "stream",
     "text": [
      "D2 preste atencao, rapaziada\n"
     ]
    }
   ],
   "source": [
    "print(\"{a} preste atencao, rapaziada\".format(a=test_keys['product_c']['dict_1'][1].upper()))"
   ]
  },
  {
   "cell_type": "code",
   "execution_count": 147,
   "metadata": {},
   "outputs": [
    {
     "name": "stdout",
     "output_type": "stream",
     "text": [
      "D2 preste atencao, rapaziada\n"
     ]
    }
   ],
   "source": [
    "print(\"{} preste atencao, rapaziada\".format(test_keys['product_c']['dict_1'][1].upper()))"
   ]
  },
  {
   "cell_type": "markdown",
   "metadata": {},
   "source": [
    "##### Adicionando um elemnto novo"
   ]
  },
  {
   "cell_type": "code",
   "execution_count": 148,
   "metadata": {},
   "outputs": [],
   "source": [
    "test_keys['product_new'] = [{'product_new_k1' : 'novo_1' }, [0, 'a', 'b'] ]"
   ]
  },
  {
   "cell_type": "code",
   "execution_count": 149,
   "metadata": {},
   "outputs": [
    {
     "data": {
      "text/plain": [
       "{'product_a': [0, 1, 2, 3],\n",
       " 'product_b': ['a', 'b', ['c1', ['c2a', 'c2b'], 'c3']],\n",
       " 'product_c': {'dict_1': ['d1', 'd2'], 'dict_2': ['none', 1]},\n",
       " 'product_new': [{'product_new_k1': 'novo_1'}, [0, 'a', 'b']]}"
      ]
     },
     "execution_count": 149,
     "metadata": {},
     "output_type": "execute_result"
    }
   ],
   "source": [
    "test_keys"
   ]
  },
  {
   "cell_type": "markdown",
   "metadata": {},
   "source": [
    "##### Misturando varios conceitos"
   ]
  },
  {
   "cell_type": "code",
   "execution_count": 150,
   "metadata": {},
   "outputs": [],
   "source": [
    "string = \"N\" + test_keys['product_new'][0]['product_new_k1'][0:-2][::-1].upper()"
   ]
  },
  {
   "cell_type": "code",
   "execution_count": 158,
   "metadata": {},
   "outputs": [
    {
     "name": "stdout",
     "output_type": "stream",
     "text": [
      "Muito louco. Isso aqui eh NOVON\n"
     ]
    }
   ],
   "source": [
    "print(f\"Muito louco. Isso aqui eh {string}\")"
   ]
  },
  {
   "cell_type": "code",
   "execution_count": 159,
   "metadata": {},
   "outputs": [],
   "source": [
    "test_keys['product_a'] = ['3', 1, 'bruno', 'nome']"
   ]
  },
  {
   "cell_type": "code",
   "execution_count": 160,
   "metadata": {},
   "outputs": [
    {
     "data": {
      "text/plain": [
       "{'product_a': ['3', 1, 'bruno', 'nome'],\n",
       " 'product_b': ['a', 'b', ['c1', ['c2a', 'c2b'], 'c3']],\n",
       " 'product_c': {'dict_1': ['d1', 'd2'], 'dict_2': ['none', 1]},\n",
       " 'product_new': [{'product_new_k1': 'novo_1'}, [0, 'a', 'b']],\n",
       " 231: 'Test'}"
      ]
     },
     "execution_count": 160,
     "metadata": {},
     "output_type": "execute_result"
    }
   ],
   "source": [
    "test_keys"
   ]
  },
  {
   "cell_type": "code",
   "execution_count": 161,
   "metadata": {},
   "outputs": [
    {
     "data": {
      "text/plain": [
       "dict_keys(['product_a', 'product_b', 'product_c', 'product_new', 231])"
      ]
     },
     "execution_count": 161,
     "metadata": {},
     "output_type": "execute_result"
    }
   ],
   "source": [
    "test_keys.keys()"
   ]
  },
  {
   "cell_type": "code",
   "execution_count": 162,
   "metadata": {},
   "outputs": [
    {
     "data": {
      "text/plain": [
       "dict_items([('product_a', ['3', 1, 'bruno', 'nome']), ('product_b', ['a', 'b', ['c1', ['c2a', 'c2b'], 'c3']]), ('product_c', {'dict_1': ['d1', 'd2'], 'dict_2': ['none', 1]}), ('product_new', [{'product_new_k1': 'novo_1'}, [0, 'a', 'b']]), (231, 'Test')])"
      ]
     },
     "execution_count": 162,
     "metadata": {},
     "output_type": "execute_result"
    }
   ],
   "source": [
    "test_keys.items()"
   ]
  },
  {
   "cell_type": "code",
   "execution_count": 163,
   "metadata": {},
   "outputs": [],
   "source": [
    "test_keys[231] = \"Test\""
   ]
  },
  {
   "cell_type": "code",
   "execution_count": 164,
   "metadata": {},
   "outputs": [
    {
     "data": {
      "text/plain": [
       "{'product_a': ['3', 1, 'bruno', 'nome'],\n",
       " 'product_b': ['a', 'b', ['c1', ['c2a', 'c2b'], 'c3']],\n",
       " 'product_c': {'dict_1': ['d1', 'd2'], 'dict_2': ['none', 1]},\n",
       " 'product_new': [{'product_new_k1': 'novo_1'}, [0, 'a', 'b']],\n",
       " 231: 'Test'}"
      ]
     },
     "execution_count": 164,
     "metadata": {},
     "output_type": "execute_result"
    }
   ],
   "source": [
    "test_keys"
   ]
  },
  {
   "cell_type": "code",
   "execution_count": 165,
   "metadata": {},
   "outputs": [
    {
     "data": {
      "text/plain": [
       "'Test'"
      ]
     },
     "execution_count": 165,
     "metadata": {},
     "output_type": "execute_result"
    }
   ],
   "source": [
    "test_keys[231]"
   ]
  }
 ],
 "metadata": {
  "kernelspec": {
   "display_name": "Python 3",
   "language": "python",
   "name": "python3"
  },
  "language_info": {
   "codemirror_mode": {
    "name": "ipython",
    "version": 3
   },
   "file_extension": ".py",
   "mimetype": "text/x-python",
   "name": "python",
   "nbconvert_exporter": "python",
   "pygments_lexer": "ipython3",
   "version": "3.6.5"
  }
 },
 "nbformat": 4,
 "nbformat_minor": 2
}
