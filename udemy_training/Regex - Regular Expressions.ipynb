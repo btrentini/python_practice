{
 "cells": [
  {
   "cell_type": "code",
   "execution_count": 1,
   "metadata": {
    "ExecuteTime": {
     "end_time": "2018-08-27T23:14:57.436249Z",
     "start_time": "2018-08-27T23:14:57.433240Z"
    }
   },
   "outputs": [],
   "source": [
    "## Regex in Python"
   ]
  },
  {
   "cell_type": "code",
   "execution_count": 2,
   "metadata": {
    "ExecuteTime": {
     "end_time": "2018-08-27T23:15:36.543990Z",
     "start_time": "2018-08-27T23:15:36.538975Z"
    }
   },
   "outputs": [],
   "source": [
    "import re"
   ]
  },
  {
   "cell_type": "code",
   "execution_count": 3,
   "metadata": {
    "ExecuteTime": {
     "end_time": "2018-08-27T23:15:48.021532Z",
     "start_time": "2018-08-27T23:15:48.016516Z"
    }
   },
   "outputs": [],
   "source": [
    "patterns = ['term1', 'term2']"
   ]
  },
  {
   "cell_type": "code",
   "execution_count": 4,
   "metadata": {
    "ExecuteTime": {
     "end_time": "2018-08-27T23:15:59.728204Z",
     "start_time": "2018-08-27T23:15:59.725196Z"
    }
   },
   "outputs": [],
   "source": [
    "text = 'This is a string with term1, but not the other term'"
   ]
  },
  {
   "cell_type": "code",
   "execution_count": 8,
   "metadata": {
    "ExecuteTime": {
     "end_time": "2018-08-27T23:17:25.790803Z",
     "start_time": "2018-08-27T23:17:25.787292Z"
    }
   },
   "outputs": [
    {
     "name": "stdout",
     "output_type": "stream",
     "text": [
      "Match not found\n"
     ]
    }
   ],
   "source": [
    "if re.search(patterns[1], text):\n",
    "    print(\"Match found\")\n",
    "else:\n",
    "    print(\"Match not found\")"
   ]
  },
  {
   "cell_type": "code",
   "execution_count": 14,
   "metadata": {
    "ExecuteTime": {
     "end_time": "2018-08-27T23:18:17.143985Z",
     "start_time": "2018-08-27T23:18:17.140525Z"
    }
   },
   "outputs": [],
   "source": [
    "match = re.search(patterns[0], text)"
   ]
  },
  {
   "cell_type": "code",
   "execution_count": 15,
   "metadata": {
    "ExecuteTime": {
     "end_time": "2018-08-27T23:18:17.609522Z",
     "start_time": "2018-08-27T23:18:17.604509Z"
    }
   },
   "outputs": [
    {
     "data": {
      "text/plain": [
       "_sre.SRE_Match"
      ]
     },
     "execution_count": 15,
     "metadata": {},
     "output_type": "execute_result"
    }
   ],
   "source": [
    "type(match)"
   ]
  },
  {
   "cell_type": "markdown",
   "metadata": {},
   "source": [
    "match.start()"
   ]
  },
  {
   "cell_type": "code",
   "execution_count": 16,
   "metadata": {
    "ExecuteTime": {
     "end_time": "2018-08-27T23:18:29.898882Z",
     "start_time": "2018-08-27T23:18:29.893870Z"
    }
   },
   "outputs": [
    {
     "data": {
      "text/plain": [
       "22"
      ]
     },
     "execution_count": 16,
     "metadata": {},
     "output_type": "execute_result"
    }
   ],
   "source": [
    "match.start()"
   ]
  },
  {
   "cell_type": "code",
   "execution_count": 17,
   "metadata": {
    "ExecuteTime": {
     "end_time": "2018-08-27T23:18:32.543448Z",
     "start_time": "2018-08-27T23:18:32.538937Z"
    }
   },
   "outputs": [
    {
     "data": {
      "text/plain": [
       "27"
      ]
     },
     "execution_count": 17,
     "metadata": {},
     "output_type": "execute_result"
    }
   ],
   "source": [
    "match.end()"
   ]
  },
  {
   "cell_type": "code",
   "execution_count": 19,
   "metadata": {
    "ExecuteTime": {
     "end_time": "2018-08-27T23:18:57.875472Z",
     "start_time": "2018-08-27T23:18:57.871994Z"
    }
   },
   "outputs": [
    {
     "data": {
      "text/plain": [
       "27"
      ]
     },
     "execution_count": 19,
     "metadata": {},
     "output_type": "execute_result"
    }
   ],
   "source": [
    "match.end()"
   ]
  },
  {
   "cell_type": "code",
   "execution_count": 22,
   "metadata": {
    "ExecuteTime": {
     "end_time": "2018-08-27T23:19:47.576257Z",
     "start_time": "2018-08-27T23:19:47.573248Z"
    }
   },
   "outputs": [],
   "source": [
    "split_term = '@'\n",
    "phrase = 'What is your email, is it hello@gmail.com?'"
   ]
  },
  {
   "cell_type": "code",
   "execution_count": 24,
   "metadata": {
    "ExecuteTime": {
     "end_time": "2018-08-27T23:20:08.603261Z",
     "start_time": "2018-08-27T23:20:08.598749Z"
    }
   },
   "outputs": [
    {
     "data": {
      "text/plain": [
       "['What is your email, is it hello', 'gmail.com?']"
      ]
     },
     "execution_count": 24,
     "metadata": {},
     "output_type": "execute_result"
    }
   ],
   "source": [
    "re.split(split_term, phrase)"
   ]
  },
  {
   "cell_type": "code",
   "execution_count": 25,
   "metadata": {
    "ExecuteTime": {
     "end_time": "2018-08-27T23:20:53.427760Z",
     "start_time": "2018-08-27T23:20:53.421780Z"
    }
   },
   "outputs": [
    {
     "data": {
      "text/plain": [
       "['bruno', 'bruno', 'bruno']"
      ]
     },
     "execution_count": 25,
     "metadata": {},
     "output_type": "execute_result"
    }
   ],
   "source": [
    "re.findall('bruno', 'here is bruno1 and then you also have bruno2 and latter on bruno3')"
   ]
  },
  {
   "cell_type": "code",
   "execution_count": 45,
   "metadata": {
    "ExecuteTime": {
     "end_time": "2018-08-27T23:25:07.665953Z",
     "start_time": "2018-08-27T23:25:07.661944Z"
    }
   },
   "outputs": [
    {
     "name": "stdout",
     "output_type": "stream",
     "text": [
      "3\n"
     ]
    }
   ],
   "source": [
    "from collections import Counter\n",
    "my_items = re.findall('bruno', 'here is bruno1 and then you also have bruno2 and latter on bruno3')\n",
    "\n",
    "d = Counter(my_items)\n",
    "print(d['bruno'])"
   ]
  },
  {
   "cell_type": "code",
   "execution_count": 47,
   "metadata": {
    "ExecuteTime": {
     "end_time": "2018-08-27T23:26:04.318713Z",
     "start_time": "2018-08-27T23:26:04.314671Z"
    }
   },
   "outputs": [],
   "source": [
    "## MULTI RE FIND"
   ]
  },
  {
   "cell_type": "code",
   "execution_count": 50,
   "metadata": {
    "ExecuteTime": {
     "end_time": "2018-08-27T23:28:08.543524Z",
     "start_time": "2018-08-27T23:28:08.539508Z"
    }
   },
   "outputs": [],
   "source": [
    "test_phrase = 'uahuahuahuhaa...asuehsauheua...sdsdsdsd...sdsdsdsd...dsdshaha'\n",
    "test_patterns = ['sd*', #s followed by zero or more d's\n",
    "                'sd+', # s followed by one or more d's\n",
    "                'sd?', # s followed by ero or one d's\n",
    "                'sd{3}', # s followed by 3d's\n",
    "                'sd{2,3}'] #s followed by 2 or 3 d's"
   ]
  },
  {
   "cell_type": "code",
   "execution_count": 53,
   "metadata": {
    "ExecuteTime": {
     "end_time": "2018-08-27T23:29:38.351544Z",
     "start_time": "2018-08-27T23:29:38.346027Z"
    }
   },
   "outputs": [
    {
     "data": {
      "text/plain": [
       "['sd', 'sd', 'sd', 'sd', 'sd', 'sd', 'sd', 'sd', 'sd']"
      ]
     },
     "execution_count": 53,
     "metadata": {},
     "output_type": "execute_result"
    }
   ],
   "source": [
    "re.findall(test_patterns[1], test_phrase)"
   ]
  },
  {
   "cell_type": "code",
   "execution_count": 54,
   "metadata": {
    "ExecuteTime": {
     "end_time": "2018-08-27T23:29:44.747525Z",
     "start_time": "2018-08-27T23:29:44.742009Z"
    }
   },
   "outputs": [
    {
     "data": {
      "text/plain": [
       "[]"
      ]
     },
     "execution_count": 54,
     "metadata": {},
     "output_type": "execute_result"
    }
   ],
   "source": [
    "re.findall(test_patterns[3], test_phrase)"
   ]
  },
  {
   "cell_type": "code",
   "execution_count": 64,
   "metadata": {
    "ExecuteTime": {
     "end_time": "2018-08-27T23:32:10.030316Z",
     "start_time": "2018-08-27T23:32:10.024829Z"
    }
   },
   "outputs": [
    {
     "data": {
      "text/plain": [
       "['u',\n",
       " 'a',\n",
       " 'h',\n",
       " 'u',\n",
       " 'a',\n",
       " 'h',\n",
       " 'u',\n",
       " 'a',\n",
       " 'h',\n",
       " 'u',\n",
       " 'h',\n",
       " 'a',\n",
       " 'a',\n",
       " 'a',\n",
       " 's',\n",
       " 'u',\n",
       " 'e',\n",
       " 'h',\n",
       " 's',\n",
       " 'a',\n",
       " 'u',\n",
       " 'h',\n",
       " 'e',\n",
       " 'u',\n",
       " 'a',\n",
       " 's',\n",
       " 'd',\n",
       " 's',\n",
       " 'd',\n",
       " 's',\n",
       " 'd',\n",
       " 's',\n",
       " 'd',\n",
       " 's',\n",
       " 'd',\n",
       " 's',\n",
       " 'd',\n",
       " 's',\n",
       " 'd',\n",
       " 's',\n",
       " 'd',\n",
       " 'd',\n",
       " 's',\n",
       " 'd',\n",
       " 's',\n",
       " 'h',\n",
       " 'a',\n",
       " 'h',\n",
       " 'a']"
      ]
     },
     "execution_count": 64,
     "metadata": {},
     "output_type": "execute_result"
    }
   ],
   "source": [
    "re.findall('[^!.?]', test_phrase)"
   ]
  },
  {
   "cell_type": "code",
   "execution_count": null,
   "metadata": {},
   "outputs": [],
   "source": []
  }
 ],
 "metadata": {
  "kernelspec": {
   "display_name": "Python 3",
   "language": "python",
   "name": "python3"
  },
  "language_info": {
   "codemirror_mode": {
    "name": "ipython",
    "version": 3
   },
   "file_extension": ".py",
   "mimetype": "text/x-python",
   "name": "python",
   "nbconvert_exporter": "python",
   "pygments_lexer": "ipython3",
   "version": "3.6.5"
  }
 },
 "nbformat": 4,
 "nbformat_minor": 2
}
