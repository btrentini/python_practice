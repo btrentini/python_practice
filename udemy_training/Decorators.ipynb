{
 "cells": [
  {
   "cell_type": "code",
   "execution_count": 1,
   "metadata": {
    "ExecuteTime": {
     "end_time": "2018-08-26T21:46:47.065181Z",
     "start_time": "2018-08-26T21:46:47.061166Z"
    }
   },
   "outputs": [],
   "source": [
    "# To avoid adding extra code to old function or creating a new function that contains old code\n",
    "\n",
    "# Decorators: track on extra functionality to an already existing function using the @ Operator\n",
    "# on top of the original function"
   ]
  },
  {
   "cell_type": "code",
   "execution_count": 4,
   "metadata": {
    "ExecuteTime": {
     "end_time": "2018-08-26T21:49:12.052003Z",
     "start_time": "2018-08-26T21:49:12.049497Z"
    }
   },
   "outputs": [],
   "source": [
    "def func():\n",
    "    '''Hello'''\n",
    "    return 1"
   ]
  },
  {
   "cell_type": "code",
   "execution_count": 5,
   "metadata": {
    "ExecuteTime": {
     "end_time": "2018-08-26T21:49:12.768607Z",
     "start_time": "2018-08-26T21:49:12.764095Z"
    }
   },
   "outputs": [
    {
     "data": {
      "text/plain": [
       "1"
      ]
     },
     "execution_count": 5,
     "metadata": {},
     "output_type": "execute_result"
    }
   ],
   "source": [
    "func()"
   ]
  },
  {
   "cell_type": "code",
   "execution_count": 13,
   "metadata": {
    "ExecuteTime": {
     "end_time": "2018-08-26T21:50:56.386164Z",
     "start_time": "2018-08-26T21:50:56.382143Z"
    }
   },
   "outputs": [
    {
     "data": {
      "text/plain": [
       "<function __main__.func()>"
      ]
     },
     "execution_count": 13,
     "metadata": {},
     "output_type": "execute_result"
    }
   ],
   "source": [
    "func"
   ]
  },
  {
   "cell_type": "code",
   "execution_count": 10,
   "metadata": {
    "ExecuteTime": {
     "end_time": "2018-08-26T21:50:43.188325Z",
     "start_time": "2018-08-26T21:50:43.185318Z"
    }
   },
   "outputs": [],
   "source": [
    "def hello():\n",
    "    return 'Hello!'"
   ]
  },
  {
   "cell_type": "code",
   "execution_count": 11,
   "metadata": {
    "ExecuteTime": {
     "end_time": "2018-08-26T21:50:50.088717Z",
     "start_time": "2018-08-26T21:50:50.084706Z"
    }
   },
   "outputs": [
    {
     "data": {
      "text/plain": [
       "'Hello!'"
      ]
     },
     "execution_count": 11,
     "metadata": {},
     "output_type": "execute_result"
    }
   ],
   "source": [
    "hello()"
   ]
  },
  {
   "cell_type": "code",
   "execution_count": 12,
   "metadata": {
    "ExecuteTime": {
     "end_time": "2018-08-26T21:50:52.641603Z",
     "start_time": "2018-08-26T21:50:52.637595Z"
    }
   },
   "outputs": [
    {
     "data": {
      "text/plain": [
       "<function __main__.hello()>"
      ]
     },
     "execution_count": 12,
     "metadata": {},
     "output_type": "execute_result"
    }
   ],
   "source": [
    "hello"
   ]
  },
  {
   "cell_type": "code",
   "execution_count": 14,
   "metadata": {
    "ExecuteTime": {
     "end_time": "2018-08-26T21:51:09.291407Z",
     "start_time": "2018-08-26T21:51:09.288396Z"
    }
   },
   "outputs": [],
   "source": [
    "greet = hello"
   ]
  },
  {
   "cell_type": "code",
   "execution_count": 15,
   "metadata": {
    "ExecuteTime": {
     "end_time": "2018-08-26T21:51:11.838071Z",
     "start_time": "2018-08-26T21:51:11.833535Z"
    }
   },
   "outputs": [
    {
     "data": {
      "text/plain": [
       "'Hello!'"
      ]
     },
     "execution_count": 15,
     "metadata": {},
     "output_type": "execute_result"
    }
   ],
   "source": [
    "greet()"
   ]
  },
  {
   "cell_type": "code",
   "execution_count": 17,
   "metadata": {
    "ExecuteTime": {
     "end_time": "2018-08-26T21:51:46.884963Z",
     "start_time": "2018-08-26T21:51:46.881979Z"
    }
   },
   "outputs": [],
   "source": [
    "# Did greet just copy Hello or Became it?\n",
    "# If we delete \"Hello\", \"Greet\" will still point to that"
   ]
  },
  {
   "cell_type": "code",
   "execution_count": 32,
   "metadata": {
    "ExecuteTime": {
     "end_time": "2018-08-26T21:55:01.101338Z",
     "start_time": "2018-08-26T21:55:01.097339Z"
    }
   },
   "outputs": [],
   "source": [
    "def hello(name='Jose'):\n",
    "    print(\"The hello func has been executed\")\n",
    "    \n",
    "    def greet():\n",
    "        return '\\t This is the greet() function within hello()'\n",
    "    \n",
    "    def welcome():\n",
    "        return '\\t This is welcome() inside Hello()'\n",
    "    \n",
    "    print(greet()) #Can be only executed within \"Hello(), can't be called outise\"\n",
    "    print(welcome())\n",
    "    print(\"This is the end of hello() function\")"
   ]
  },
  {
   "cell_type": "code",
   "execution_count": 33,
   "metadata": {
    "ExecuteTime": {
     "end_time": "2018-08-26T21:55:01.487608Z",
     "start_time": "2018-08-26T21:55:01.484073Z"
    }
   },
   "outputs": [
    {
     "name": "stdout",
     "output_type": "stream",
     "text": [
      "The hello func has been executed\n",
      "\t This is the greet() function within hello()\n",
      "\t This is welcome() inside Hello()\n",
      "This is the end of hello() function\n"
     ]
    }
   ],
   "source": [
    "hello()"
   ]
  },
  {
   "cell_type": "markdown",
   "metadata": {},
   "source": [
    "## Let's make Hello() Return Functions"
   ]
  },
  {
   "cell_type": "code",
   "execution_count": 34,
   "metadata": {
    "ExecuteTime": {
     "end_time": "2018-08-26T21:56:09.349523Z",
     "start_time": "2018-08-26T21:56:09.346049Z"
    }
   },
   "outputs": [],
   "source": [
    "def hello(name='Jose'):\n",
    "    print(\"The hello func has been executed\")\n",
    "    \n",
    "    def greet():\n",
    "        return '\\t This is the greet() function within hello()'\n",
    "    \n",
    "    def welcome():\n",
    "        return '\\t This is welcome() inside Hello()'\n",
    "    \n",
    "    if name == 'Jose':\n",
    "        return greet\n",
    "    else: \n",
    "        return welcome"
   ]
  },
  {
   "cell_type": "code",
   "execution_count": 36,
   "metadata": {
    "ExecuteTime": {
     "end_time": "2018-08-26T21:56:26.574688Z",
     "start_time": "2018-08-26T21:56:26.571177Z"
    }
   },
   "outputs": [
    {
     "name": "stdout",
     "output_type": "stream",
     "text": [
      "The hello func has been executed\n"
     ]
    }
   ],
   "source": [
    "my_new_func = hello('Jose')"
   ]
  },
  {
   "cell_type": "code",
   "execution_count": 39,
   "metadata": {
    "ExecuteTime": {
     "end_time": "2018-08-26T21:56:56.610851Z",
     "start_time": "2018-08-26T21:56:56.606841Z"
    }
   },
   "outputs": [
    {
     "name": "stdout",
     "output_type": "stream",
     "text": [
      "\t This is the greet() function within hello()\n"
     ]
    }
   ],
   "source": [
    "print(my_new_func())"
   ]
  },
  {
   "cell_type": "code",
   "execution_count": 40,
   "metadata": {
    "ExecuteTime": {
     "end_time": "2018-08-26T21:57:28.606657Z",
     "start_time": "2018-08-26T21:57:28.603676Z"
    }
   },
   "outputs": [],
   "source": [
    "def cool():\n",
    "    def super_cool():\n",
    "        return 'I am very cool'\n",
    "    \n",
    "    return super_cool"
   ]
  },
  {
   "cell_type": "code",
   "execution_count": 41,
   "metadata": {
    "ExecuteTime": {
     "end_time": "2018-08-26T21:57:34.215216Z",
     "start_time": "2018-08-26T21:57:34.211705Z"
    }
   },
   "outputs": [],
   "source": [
    "some_func = cool()"
   ]
  },
  {
   "cell_type": "code",
   "execution_count": 43,
   "metadata": {
    "ExecuteTime": {
     "end_time": "2018-08-26T21:57:45.166207Z",
     "start_time": "2018-08-26T21:57:45.163199Z"
    }
   },
   "outputs": [
    {
     "name": "stdout",
     "output_type": "stream",
     "text": [
      "I am very cool\n"
     ]
    }
   ],
   "source": [
    "print(some_func())"
   ]
  },
  {
   "cell_type": "markdown",
   "metadata": {},
   "source": [
    "## Passing a function as argument"
   ]
  },
  {
   "cell_type": "code",
   "execution_count": 44,
   "metadata": {
    "ExecuteTime": {
     "end_time": "2018-08-26T21:58:18.364368Z",
     "start_time": "2018-08-26T21:58:18.361385Z"
    }
   },
   "outputs": [],
   "source": [
    "def hello():\n",
    "    return 'Hi Jose'"
   ]
  },
  {
   "cell_type": "code",
   "execution_count": 45,
   "metadata": {
    "ExecuteTime": {
     "end_time": "2018-08-26T21:58:41.577170Z",
     "start_time": "2018-08-26T21:58:41.574149Z"
    }
   },
   "outputs": [],
   "source": [
    "def other(some_def_func):\n",
    "    print('Other Code Runs Here')\n",
    "    print(some_def_func())"
   ]
  },
  {
   "cell_type": "code",
   "execution_count": 46,
   "metadata": {
    "ExecuteTime": {
     "end_time": "2018-08-26T21:59:07.990247Z",
     "start_time": "2018-08-26T21:59:07.987059Z"
    }
   },
   "outputs": [
    {
     "name": "stdout",
     "output_type": "stream",
     "text": [
      "Other Code Runs Here\n",
      "Hi Jose\n"
     ]
    }
   ],
   "source": [
    "other(hello)"
   ]
  },
  {
   "cell_type": "markdown",
   "metadata": {},
   "source": [
    "# Let's create a DECORATOR"
   ]
  },
  {
   "cell_type": "code",
   "execution_count": 56,
   "metadata": {
    "ExecuteTime": {
     "end_time": "2018-08-26T22:04:11.996973Z",
     "start_time": "2018-08-26T22:04:11.993960Z"
    }
   },
   "outputs": [],
   "source": [
    "## FIRST A BAD EXAMPLE:"
   ]
  },
  {
   "cell_type": "code",
   "execution_count": 57,
   "metadata": {
    "ExecuteTime": {
     "end_time": "2018-08-26T22:04:15.440411Z",
     "start_time": "2018-08-26T22:04:15.436902Z"
    }
   },
   "outputs": [],
   "source": [
    "def new_decorator(original_func):\n",
    "    \n",
    "    def wrap_func():\n",
    "        \n",
    "        print('some extra code before the original function')\n",
    "        original_func()\n",
    "        print('Some Extra code after the original function')\n",
    "        \n",
    "    return wrap_func"
   ]
  },
  {
   "cell_type": "code",
   "execution_count": 51,
   "metadata": {
    "ExecuteTime": {
     "end_time": "2018-08-26T22:02:41.726646Z",
     "start_time": "2018-08-26T22:02:41.723137Z"
    }
   },
   "outputs": [],
   "source": [
    "def func_needs_decorator():\n",
    "    print(\"I want to be decorated\")"
   ]
  },
  {
   "cell_type": "code",
   "execution_count": 52,
   "metadata": {
    "ExecuteTime": {
     "end_time": "2018-08-26T22:02:51.014361Z",
     "start_time": "2018-08-26T22:02:51.010841Z"
    }
   },
   "outputs": [
    {
     "name": "stdout",
     "output_type": "stream",
     "text": [
      "I want to be decorated\n"
     ]
    }
   ],
   "source": [
    "func_needs_decorator()"
   ]
  },
  {
   "cell_type": "code",
   "execution_count": 54,
   "metadata": {
    "ExecuteTime": {
     "end_time": "2018-08-26T22:03:21.547958Z",
     "start_time": "2018-08-26T22:03:21.544448Z"
    }
   },
   "outputs": [],
   "source": [
    "decorated_function = new_decorator(func_needs_decorator)"
   ]
  },
  {
   "cell_type": "code",
   "execution_count": 55,
   "metadata": {
    "ExecuteTime": {
     "end_time": "2018-08-26T22:03:56.328479Z",
     "start_time": "2018-08-26T22:03:56.324468Z"
    }
   },
   "outputs": [
    {
     "name": "stdout",
     "output_type": "stream",
     "text": [
      "some extra code before the original function\n",
      "I want to be decorated\n",
      "Some Extra code after the original function\n"
     ]
    }
   ],
   "source": [
    "decorated_function()"
   ]
  },
  {
   "cell_type": "code",
   "execution_count": 58,
   "metadata": {
    "ExecuteTime": {
     "end_time": "2018-08-26T22:04:22.701275Z",
     "start_time": "2018-08-26T22:04:22.698768Z"
    }
   },
   "outputs": [],
   "source": [
    "## LETS CREATE A REAL THING HERE"
   ]
  },
  {
   "cell_type": "code",
   "execution_count": 59,
   "metadata": {
    "ExecuteTime": {
     "end_time": "2018-08-26T22:04:43.039652Z",
     "start_time": "2018-08-26T22:04:43.035140Z"
    }
   },
   "outputs": [],
   "source": [
    "@new_decorator\n",
    "def func_needs_decorator():\n",
    "    print(\"I want to be decorated\")"
   ]
  },
  {
   "cell_type": "code",
   "execution_count": 61,
   "metadata": {
    "ExecuteTime": {
     "end_time": "2018-08-26T22:05:06.432426Z",
     "start_time": "2018-08-26T22:05:06.428405Z"
    }
   },
   "outputs": [
    {
     "name": "stdout",
     "output_type": "stream",
     "text": [
      "some extra code before the original function\n",
      "I want to be decorated\n",
      "Some Extra code after the original function\n"
     ]
    }
   ],
   "source": [
    "func_needs_decorator()"
   ]
  },
  {
   "cell_type": "code",
   "execution_count": null,
   "metadata": {},
   "outputs": [],
   "source": []
  }
 ],
 "metadata": {
  "kernelspec": {
   "display_name": "Python 3",
   "language": "python",
   "name": "python3"
  },
  "language_info": {
   "codemirror_mode": {
    "name": "ipython",
    "version": 3
   },
   "file_extension": ".py",
   "mimetype": "text/x-python",
   "name": "python",
   "nbconvert_exporter": "python",
   "pygments_lexer": "ipython3",
   "version": "3.6.5"
  }
 },
 "nbformat": 4,
 "nbformat_minor": 2
}
