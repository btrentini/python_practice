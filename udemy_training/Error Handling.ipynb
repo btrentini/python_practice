{
 "cells": [
  {
   "cell_type": "code",
   "execution_count": null,
   "metadata": {},
   "outputs": [],
   "source": [
    "def add(n1,n2):\n",
    "    print(n1+n2)"
   ]
  },
  {
   "cell_type": "code",
   "execution_count": null,
   "metadata": {},
   "outputs": [],
   "source": [
    "add(10,20)"
   ]
  },
  {
   "cell_type": "code",
   "execution_count": null,
   "metadata": {},
   "outputs": [],
   "source": [
    "number1=10"
   ]
  },
  {
   "cell_type": "code",
   "execution_count": null,
   "metadata": {},
   "outputs": [],
   "source": [
    "number2 = input(\"please provide a number: \")"
   ]
  },
  {
   "cell_type": "code",
   "execution_count": null,
   "metadata": {},
   "outputs": [],
   "source": [
    "add(number1, number2)"
   ]
  },
  {
   "cell_type": "code",
   "execution_count": null,
   "metadata": {},
   "outputs": [],
   "source": [
    "# If the error appears, nothing else will be shown after it.\n",
    "# We can use TRY, EXCEPT, FINALLY\n",
    "# We use try when we think there might be an error"
   ]
  },
  {
   "cell_type": "code",
   "execution_count": null,
   "metadata": {},
   "outputs": [],
   "source": [
    "try:\n",
    "    result = 10+10\n",
    "except:\n",
    "    print(\"Hey it looks like there's no error here\")"
   ]
  },
  {
   "cell_type": "code",
   "execution_count": null,
   "metadata": {},
   "outputs": [],
   "source": [
    "result"
   ]
  },
  {
   "cell_type": "code",
   "execution_count": null,
   "metadata": {},
   "outputs": [],
   "source": [
    "try:\n",
    "    result = 10+\"10\"\n",
    "except:\n",
    "    print(\"Hey it looks like there's no error here\")"
   ]
  },
  {
   "cell_type": "code",
   "execution_count": null,
   "metadata": {},
   "outputs": [],
   "source": [
    "try:\n",
    "    result = 10+10\n",
    "except:\n",
    "    print(\"Hey it looks like there's no error here\")\n",
    "else:\n",
    "    print(\"All good\")\n",
    "    print(result)"
   ]
  },
  {
   "cell_type": "code",
   "execution_count": null,
   "metadata": {},
   "outputs": [],
   "source": [
    "# Finally will ALWAYS execute regardless of error\n",
    "try:\n",
    "    f = open('testfile.txt', 'r')\n",
    "    f.write(\"Write new file\")\n",
    "    result = 10+10\n",
    "except TypeError:\n",
    "    print(\"Hey it looks like there's no error here\")\n",
    "except OSError:\n",
    "    print(\"OS Error - you cant write in this file: only read permission\")\n",
    "else:\n",
    "    print(\"All good with OS\")\n",
    "finally:\n",
    "    print(\"Job finished\")"
   ]
  },
  {
   "cell_type": "code",
   "execution_count": null,
   "metadata": {},
   "outputs": [],
   "source": [
    "# IF EXCEPTIONS ARE NOT EXPLICIT,\n",
    "#it's gonna generalise the error block"
   ]
  },
  {
   "cell_type": "code",
   "execution_count": null,
   "metadata": {},
   "outputs": [],
   "source": [
    "### LETS TRY WIHTHIN A FUNCTION"
   ]
  },
  {
   "cell_type": "code",
   "execution_count": 1,
   "metadata": {},
   "outputs": [],
   "source": [
    "def ask_for_int():\n",
    "    \n",
    "    while True:\n",
    "        try:\n",
    "            result = int(input(\"please give me a number: \"))\n",
    "        except:\n",
    "            print(\"NaN\")\n",
    "            continue\n",
    "        else:\n",
    "            print(\"All good\")\n",
    "            break\n",
    "        finally:\n",
    "            print(\"End -- \")"
   ]
  },
  {
   "cell_type": "code",
   "execution_count": 3,
   "metadata": {},
   "outputs": [
    {
     "name": "stdout",
     "output_type": "stream",
     "text": [
      "please give me a number: TEST\n",
      "NaN\n",
      "End -- \n",
      "please give me a number: oi\n",
      "NaN\n",
      "End -- \n",
      "please give me a number: 30\n",
      "All good\n",
      "End -- \n"
     ]
    }
   ],
   "source": [
    "ask_for_int()"
   ]
  },
  {
   "cell_type": "code",
   "execution_count": null,
   "metadata": {},
   "outputs": [],
   "source": []
  },
  {
   "cell_type": "code",
   "execution_count": null,
   "metadata": {},
   "outputs": [],
   "source": []
  }
 ],
 "metadata": {
  "kernelspec": {
   "display_name": "Python 3",
   "language": "python",
   "name": "python3"
  },
  "language_info": {
   "codemirror_mode": {
    "name": "ipython",
    "version": 3
   },
   "file_extension": ".py",
   "mimetype": "text/x-python",
   "name": "python",
   "nbconvert_exporter": "python",
   "pygments_lexer": "ipython3",
   "version": "3.6.5"
  }
 },
 "nbformat": 4,
 "nbformat_minor": 2
}
