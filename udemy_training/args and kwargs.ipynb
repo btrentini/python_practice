{
 "cells": [
  {
   "cell_type": "code",
   "execution_count": 14,
   "metadata": {},
   "outputs": [],
   "source": [
    "def myfunc(a,b):\n",
    "    return sum((a,b))*1.14323"
   ]
  },
  {
   "cell_type": "code",
   "execution_count": 17,
   "metadata": {},
   "outputs": [
    {
     "name": "stdout",
     "output_type": "stream",
     "text": [
      "114.3230\n"
     ]
    }
   ],
   "source": [
    "print(\"{result:0.4f}\".format(result=myfunc(40,60)))"
   ]
  },
  {
   "cell_type": "code",
   "execution_count": 20,
   "metadata": {},
   "outputs": [],
   "source": [
    "## What if you want to add an arbitrary number of args like (40,60,30,20)"
   ]
  },
  {
   "cell_type": "code",
   "execution_count": 50,
   "metadata": {},
   "outputs": [],
   "source": [
    "def myfuncargs(*args):\n",
    "    print(\"args:\", args)\n",
    "    return sum(args)*1.14323"
   ]
  },
  {
   "cell_type": "code",
   "execution_count": 51,
   "metadata": {},
   "outputs": [
    {
     "name": "stdout",
     "output_type": "stream",
     "text": [
      "args: (40, 60)\n",
      "114.3230\n"
     ]
    }
   ],
   "source": [
    "print(\"{result:0.4f}\".format(result=myfuncargs(40,60)))"
   ]
  },
  {
   "cell_type": "code",
   "execution_count": 52,
   "metadata": {},
   "outputs": [
    {
     "name": "stdout",
     "output_type": "stream",
     "text": [
      "args: (40, 60, 30, 40, 30, 50)\n",
      "285.8075\n"
     ]
    }
   ],
   "source": [
    "print(\"{result:0.4f}\".format(result=myfuncargs(40,60, 30, 40, 30, 50)))"
   ]
  },
  {
   "cell_type": "code",
   "execution_count": 53,
   "metadata": {},
   "outputs": [],
   "source": [
    "## Styling: any variable with * will work, but use args for convention\n",
    "def myfuncargs(*anything):\n",
    "    print(\"args:\", anything)\n",
    "    return sum(anything)*1.14323"
   ]
  },
  {
   "cell_type": "code",
   "execution_count": 143,
   "metadata": {},
   "outputs": [],
   "source": [
    "## We can also build a k-value function (dictionary) instead of a tuple with kwargs\n",
    "def mykwargs(**kwargs):\n",
    "    from random import randint\n",
    "\n",
    "    search_key = ['bruno', 'raquel', 'outros', 'undefined_person']\n",
    "    search_key = search_key[randint(0,3)]\n",
    "    \n",
    "    if search_key in kwargs:\n",
    "        print(\"My fuit of choice is {}\".format(kwargs[search_key].upper()))\n",
    "    else:\n",
    "        print(f\"I didn't find any {search_key.upper()}\")"
   ]
  },
  {
   "cell_type": "code",
   "execution_count": 144,
   "metadata": {},
   "outputs": [
    {
     "name": "stdout",
     "output_type": "stream",
     "text": [
      "{'bruno': 'Bruno_300', 'raquel': 'raquel_100'}\n",
      "My fuit of choice is RAQUEL_100\n"
     ]
    }
   ],
   "source": [
    "mykwargs(bruno='Bruno_300', raquel = 'raquel_100')"
   ]
  },
  {
   "cell_type": "code",
   "execution_count": 180,
   "metadata": {},
   "outputs": [],
   "source": [
    "mydict = {'bruno': 200, \n",
    "          'raquel': 300, \n",
    "          'outros': {'alvaro' : 330, \n",
    "                     'cecilia' : 200, \n",
    "                     'matt' : (10,30), \n",
    "                     'bryan': {'bryan_tuple': ('d',30),\n",
    "                              'brayan_list': [40,50]\n",
    "                              }\n",
    "                     }\n",
    "         }"
   ]
  },
  {
   "cell_type": "code",
   "execution_count": 181,
   "metadata": {},
   "outputs": [
    {
     "data": {
      "text/plain": [
       "{'bruno': 200,\n",
       " 'raquel': 300,\n",
       " 'outros': {'alvaro': 330,\n",
       "  'cecilia': 200,\n",
       "  'matt': (10, 30),\n",
       "  'bryan': {'bryan_tuple': ('d', 30), 'brayan_list': [40, 50]}}}"
      ]
     },
     "execution_count": 181,
     "metadata": {},
     "output_type": "execute_result"
    }
   ],
   "source": [
    "mydict"
   ]
  },
  {
   "cell_type": "code",
   "execution_count": 274,
   "metadata": {},
   "outputs": [],
   "source": [
    "def mykwargs_v2(**kwargs):\n",
    "    from random import randint\n",
    "    \n",
    "    params = list(kwargs.keys())[0]\n",
    "    values_list = list(kwargs.values())[0]\n",
    "\n",
    "    search_key = 'outros'\n",
    "    \n",
    "    if search_key in values_list:\n",
    "        if type(kwargs[params][search_key]) == dict:\n",
    "            print(\"It's a dict\")\n",
    "            level_2 = 'alvaro'\n",
    "            print(\"The value for {0} ({1}) is = {2}\".format(search_key.upper(), level_2.upper(), kwargs[params][search_key][level_2]))\n",
    "\n",
    "        else:\n",
    "            print(\"The value for {0} is = {1}\".format(search_key.upper(), kwargs[params][search_key]))\n",
    "    else:\n",
    "        print(f\"\\n\\nI didn't find any {kwargs[params][search_key]}\")"
   ]
  },
  {
   "cell_type": "code",
   "execution_count": 275,
   "metadata": {},
   "outputs": [
    {
     "name": "stdout",
     "output_type": "stream",
     "text": [
      "It's a dict\n",
      "The value for OUTROS (ALVARO) is = 330\n"
     ]
    }
   ],
   "source": [
    "mykwargs_v2(d=mydict)"
   ]
  },
  {
   "cell_type": "code",
   "execution_count": 276,
   "metadata": {},
   "outputs": [],
   "source": [
    "## MIXING UP"
   ]
  },
  {
   "cell_type": "code",
   "execution_count": 282,
   "metadata": {},
   "outputs": [],
   "source": [
    "def myfunc(*args, **kwargs):\n",
    "    from random import randint\n",
    "    print('I would like {} {}'.format(args[randint(0,3)], kwargs['food']))"
   ]
  },
  {
   "cell_type": "code",
   "execution_count": 287,
   "metadata": {},
   "outputs": [
    {
     "name": "stdout",
     "output_type": "stream",
     "text": [
      "I would like 10 beans\n"
     ]
    }
   ],
   "source": [
    "myfunc(10,20,30,40,fruit='orange', animal='dinossaur', food='beans')"
   ]
  },
  {
   "cell_type": "code",
   "execution_count": 292,
   "metadata": {},
   "outputs": [
    {
     "data": {
      "text/plain": [
       "[2, 4, 6, 8, 10, 12]"
      ]
     },
     "execution_count": 292,
     "metadata": {},
     "output_type": "execute_result"
    }
   ],
   "source": [
    "def myfunc(*args):\n",
    "    return [i for i in args if i%2 ==0]\n",
    "\n",
    "myfunc(1,2,3,4,5,6,7,8,9,10,11,12)"
   ]
  },
  {
   "cell_type": "code",
   "execution_count": 295,
   "metadata": {},
   "outputs": [
    {
     "data": {
      "text/plain": [
       "[2, 4, 6, 8, 10, 12]"
      ]
     },
     "execution_count": 295,
     "metadata": {},
     "output_type": "execute_result"
    }
   ],
   "source": [
    "#Solucao porca \n",
    "def myfunc(*args):\n",
    "    my_list = []\n",
    "    \n",
    "    for i in args:\n",
    "        if i%2 == 0:\n",
    "            my_list.append(i)\n",
    "            \n",
    "    return my_list\n",
    "\n",
    "myfunc(1,2,3,4,5,6,7,8,9,10,11,12)"
   ]
  },
  {
   "cell_type": "code",
   "execution_count": 362,
   "metadata": {},
   "outputs": [
    {
     "data": {
      "text/plain": [
       "'bRuNo'"
      ]
     },
     "execution_count": 362,
     "metadata": {},
     "output_type": "execute_result"
    }
   ],
   "source": [
    "def myfunc(st):\n",
    "    return ''.join([st[i].lower() if i%2==0 else st[i].upper() for i in range(len(st))])\n",
    "\n",
    "myfunc('Bruno')"
   ]
  },
  {
   "cell_type": "code",
   "execution_count": 377,
   "metadata": {},
   "outputs": [
    {
     "data": {
      "text/plain": [
       "'bRuNo'"
      ]
     },
     "execution_count": 377,
     "metadata": {},
     "output_type": "execute_result"
    }
   ],
   "source": [
    "def myfunc(st):\n",
    "    return ''.join([st[l].lower() if l%2==0 else st[l].upper() for l in range(len(st))])\n",
    "\n",
    "myfunc('Bruno')"
   ]
  },
  {
   "cell_type": "code",
   "execution_count": 369,
   "metadata": {},
   "outputs": [
    {
     "data": {
      "text/plain": [
       "range(0, 5)"
      ]
     },
     "execution_count": 369,
     "metadata": {},
     "output_type": "execute_result"
    }
   ],
   "source": [
    "range(5)"
   ]
  },
  {
   "cell_type": "code",
   "execution_count": 378,
   "metadata": {},
   "outputs": [
    {
     "data": {
      "text/plain": [
       "'B-r-u-n-o'"
      ]
     },
     "execution_count": 378,
     "metadata": {},
     "output_type": "execute_result"
    }
   ],
   "source": [
    "'-'.join('Bruno')"
   ]
  },
  {
   "cell_type": "code",
   "execution_count": 380,
   "metadata": {},
   "outputs": [
    {
     "data": {
      "text/plain": [
       "'Bruno'"
      ]
     },
     "execution_count": 380,
     "metadata": {},
     "output_type": "execute_result"
    }
   ],
   "source": [
    "''.join('Bruno')"
   ]
  },
  {
   "cell_type": "code",
   "execution_count": 384,
   "metadata": {},
   "outputs": [
    {
     "name": "stdout",
     "output_type": "stream",
     "text": [
      "b\n",
      "R\n",
      "u\n",
      "N\n",
      "o\n"
     ]
    },
    {
     "data": {
      "text/plain": [
       "'bRuNo'"
      ]
     },
     "execution_count": 384,
     "metadata": {},
     "output_type": "execute_result"
    }
   ],
   "source": [
    "def myfunc(st):\n",
    "    \n",
    "    out = []\n",
    "    \n",
    "    for i in range(len(st)):\n",
    "        if i%2 == 0:\n",
    "            print(st[i].lower())\n",
    "            out\n",
    "        else:\n",
    "            print(st[i].upper())\n",
    "            \n",
    "    return ''.join([st[i].lower() if i%2==0 else st[i].upper() for i in range(len(st))])\n",
    "\n",
    "myfunc('Bruno')"
   ]
  },
  {
   "cell_type": "code",
   "execution_count": null,
   "metadata": {},
   "outputs": [],
   "source": []
  },
  {
   "cell_type": "code",
   "execution_count": null,
   "metadata": {},
   "outputs": [],
   "source": []
  }
 ],
 "metadata": {
  "kernelspec": {
   "display_name": "Python 3",
   "language": "python",
   "name": "python3"
  },
  "language_info": {
   "codemirror_mode": {
    "name": "ipython",
    "version": 3
   },
   "file_extension": ".py",
   "mimetype": "text/x-python",
   "name": "python",
   "nbconvert_exporter": "python",
   "pygments_lexer": "ipython3",
   "version": "3.6.5"
  }
 },
 "nbformat": 4,
 "nbformat_minor": 2
}
