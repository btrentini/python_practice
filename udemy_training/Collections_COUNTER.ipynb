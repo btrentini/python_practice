{
 "cells": [
  {
   "cell_type": "code",
   "execution_count": 1,
   "metadata": {
    "ExecuteTime": {
     "end_time": "2018-08-27T22:27:53.775030Z",
     "start_time": "2018-08-27T22:27:53.771520Z"
    }
   },
   "outputs": [],
   "source": [
    "# Counter: dictionary subclasss to count hashable objects\n",
    "from collections import Counter"
   ]
  },
  {
   "cell_type": "code",
   "execution_count": 2,
   "metadata": {
    "ExecuteTime": {
     "end_time": "2018-08-27T22:28:07.110097Z",
     "start_time": "2018-08-27T22:28:07.107091Z"
    }
   },
   "outputs": [],
   "source": [
    "l = [1,1,1,1,1,2,2,2,2,3,3,3,3,4,4,4,4,4,5,5,5,5,5,5]"
   ]
  },
  {
   "cell_type": "code",
   "execution_count": 3,
   "metadata": {
    "ExecuteTime": {
     "end_time": "2018-08-27T22:28:11.415437Z",
     "start_time": "2018-08-27T22:28:11.402349Z"
    }
   },
   "outputs": [
    {
     "data": {
      "text/plain": [
       "Counter({1: 5, 2: 4, 3: 4, 4: 5, 5: 6})"
      ]
     },
     "execution_count": 3,
     "metadata": {},
     "output_type": "execute_result"
    }
   ],
   "source": [
    "Counter(l)"
   ]
  },
  {
   "cell_type": "code",
   "execution_count": 4,
   "metadata": {
    "ExecuteTime": {
     "end_time": "2018-08-27T22:28:36.630963Z",
     "start_time": "2018-08-27T22:28:36.625771Z"
    }
   },
   "outputs": [],
   "source": [
    "s = 'aheiuasheiusaheiuhsiuhfiuxhzuifhuizxhiufhzxiufhopopoqopqxxx'"
   ]
  },
  {
   "cell_type": "code",
   "execution_count": 5,
   "metadata": {
    "ExecuteTime": {
     "end_time": "2018-08-27T22:28:39.299976Z",
     "start_time": "2018-08-27T22:28:39.294478Z"
    }
   },
   "outputs": [
    {
     "data": {
      "text/plain": [
       "Counter({'a': 3,\n",
       "         'h': 10,\n",
       "         'e': 3,\n",
       "         'i': 9,\n",
       "         'u': 9,\n",
       "         's': 3,\n",
       "         'f': 4,\n",
       "         'x': 6,\n",
       "         'z': 3,\n",
       "         'o': 4,\n",
       "         'p': 3,\n",
       "         'q': 2})"
      ]
     },
     "execution_count": 5,
     "metadata": {},
     "output_type": "execute_result"
    }
   ],
   "source": [
    "Counter(s)"
   ]
  },
  {
   "cell_type": "code",
   "execution_count": 6,
   "metadata": {
    "ExecuteTime": {
     "end_time": "2018-08-27T22:29:18.813646Z",
     "start_time": "2018-08-27T22:29:18.810636Z"
    }
   },
   "outputs": [],
   "source": [
    "# How many times each word appears in a sentence?\n",
    "s = 'How many times a word appears in a setence if you can count any word in a setence?'"
   ]
  },
  {
   "cell_type": "code",
   "execution_count": 7,
   "metadata": {
    "ExecuteTime": {
     "end_time": "2018-08-27T22:29:31.989340Z",
     "start_time": "2018-08-27T22:29:31.981851Z"
    }
   },
   "outputs": [
    {
     "data": {
      "text/plain": [
       "Counter({'How': 1,\n",
       "         'many': 1,\n",
       "         'times': 1,\n",
       "         'a': 3,\n",
       "         'word': 2,\n",
       "         'appears': 1,\n",
       "         'in': 2,\n",
       "         'setence': 1,\n",
       "         'if': 1,\n",
       "         'you': 1,\n",
       "         'can': 1,\n",
       "         'count': 1,\n",
       "         'any': 1,\n",
       "         'setence?': 1})"
      ]
     },
     "execution_count": 7,
     "metadata": {},
     "output_type": "execute_result"
    }
   ],
   "source": [
    "words = s.split()\n",
    "Counter(words)"
   ]
  },
  {
   "cell_type": "code",
   "execution_count": 8,
   "metadata": {
    "ExecuteTime": {
     "end_time": "2018-08-27T22:29:50.649187Z",
     "start_time": "2018-08-27T22:29:50.645671Z"
    }
   },
   "outputs": [],
   "source": [
    "c = Counter(words)"
   ]
  },
  {
   "cell_type": "code",
   "execution_count": 12,
   "metadata": {
    "ExecuteTime": {
     "end_time": "2018-08-27T22:30:09.082072Z",
     "start_time": "2018-08-27T22:30:09.075552Z"
    }
   },
   "outputs": [
    {
     "data": {
      "text/plain": [
       "[('a', 3), ('word', 2), ('in', 2), ('How', 1)]"
      ]
     },
     "execution_count": 12,
     "metadata": {},
     "output_type": "execute_result"
    }
   ],
   "source": [
    "c.most_common(4) # Two Common Words"
   ]
  },
  {
   "cell_type": "code",
   "execution_count": 14,
   "metadata": {
    "ExecuteTime": {
     "end_time": "2018-08-27T22:30:29.931024Z",
     "start_time": "2018-08-27T22:30:29.925514Z"
    }
   },
   "outputs": [
    {
     "data": {
      "text/plain": [
       "18"
      ]
     },
     "execution_count": 14,
     "metadata": {},
     "output_type": "execute_result"
    }
   ],
   "source": [
    "sum(c.values()) # Total Words"
   ]
  },
  {
   "cell_type": "code",
   "execution_count": 15,
   "metadata": {
    "ExecuteTime": {
     "end_time": "2018-08-27T22:30:37.916534Z",
     "start_time": "2018-08-27T22:30:37.911018Z"
    }
   },
   "outputs": [
    {
     "data": {
      "text/plain": [
       "['How',\n",
       " 'many',\n",
       " 'times',\n",
       " 'a',\n",
       " 'word',\n",
       " 'appears',\n",
       " 'in',\n",
       " 'setence',\n",
       " 'if',\n",
       " 'you',\n",
       " 'can',\n",
       " 'count',\n",
       " 'any',\n",
       " 'setence?']"
      ]
     },
     "execution_count": 15,
     "metadata": {},
     "output_type": "execute_result"
    }
   ],
   "source": [
    "list(c)"
   ]
  },
  {
   "cell_type": "code",
   "execution_count": 16,
   "metadata": {
    "ExecuteTime": {
     "end_time": "2018-08-27T22:30:44.760125Z",
     "start_time": "2018-08-27T22:30:44.755613Z"
    }
   },
   "outputs": [
    {
     "data": {
      "text/plain": [
       "{'How': 1,\n",
       " 'many': 1,\n",
       " 'times': 1,\n",
       " 'a': 3,\n",
       " 'word': 2,\n",
       " 'appears': 1,\n",
       " 'in': 2,\n",
       " 'setence': 1,\n",
       " 'if': 1,\n",
       " 'you': 1,\n",
       " 'can': 1,\n",
       " 'count': 1,\n",
       " 'any': 1,\n",
       " 'setence?': 1}"
      ]
     },
     "execution_count": 16,
     "metadata": {},
     "output_type": "execute_result"
    }
   ],
   "source": [
    "dict(c)"
   ]
  },
  {
   "cell_type": "code",
   "execution_count": 46,
   "metadata": {
    "ExecuteTime": {
     "end_time": "2018-08-27T22:34:32.422446Z",
     "start_time": "2018-08-27T22:34:32.418438Z"
    }
   },
   "outputs": [],
   "source": [
    "teste = c.items() #CONVERT TO A LIST"
   ]
  },
  {
   "cell_type": "code",
   "execution_count": 49,
   "metadata": {
    "ExecuteTime": {
     "end_time": "2018-08-27T22:34:55.702374Z",
     "start_time": "2018-08-27T22:34:55.698876Z"
    }
   },
   "outputs": [
    {
     "data": {
      "text/plain": [
       "dict_items([('How', 1), ('many', 1), ('times', 1), ('a', 3), ('word', 2), ('appears', 1), ('in', 2), ('setence', 1), ('if', 1), ('you', 1), ('can', 1), ('count', 1), ('any', 1), ('setence?', 1)])"
      ]
     },
     "execution_count": 49,
     "metadata": {},
     "output_type": "execute_result"
    }
   ],
   "source": [
    "teste"
   ]
  },
  {
   "cell_type": "code",
   "execution_count": 48,
   "metadata": {
    "ExecuteTime": {
     "end_time": "2018-08-27T22:34:49.247097Z",
     "start_time": "2018-08-27T22:34:49.243086Z"
    }
   },
   "outputs": [
    {
     "data": {
      "text/plain": [
       "Counter({'How': 1,\n",
       "         'many': 1,\n",
       "         'times': 1,\n",
       "         'a': 3,\n",
       "         'word': 2,\n",
       "         'appears': 1,\n",
       "         'in': 2,\n",
       "         'setence': 1,\n",
       "         'if': 1,\n",
       "         'you': 1,\n",
       "         'can': 1,\n",
       "         'count': 1,\n",
       "         'any': 1,\n",
       "         'setence?': 1})"
      ]
     },
     "execution_count": 48,
     "metadata": {},
     "output_type": "execute_result"
    }
   ],
   "source": [
    "Counter(dict(teste))#CONVERTS FROM A LIST"
   ]
  },
  {
   "cell_type": "code",
   "execution_count": 44,
   "metadata": {
    "ExecuteTime": {
     "end_time": "2018-08-27T22:33:57.624192Z",
     "start_time": "2018-08-27T22:33:57.619677Z"
    }
   },
   "outputs": [
    {
     "data": {
      "text/plain": [
       "[('setence?', 1), ('any', 1)]"
      ]
     },
     "execution_count": 44,
     "metadata": {},
     "output_type": "execute_result"
    }
   ],
   "source": [
    "c.most_common()[:-3:-1]"
   ]
  },
  {
   "cell_type": "code",
   "execution_count": null,
   "metadata": {},
   "outputs": [],
   "source": []
  }
 ],
 "metadata": {
  "kernelspec": {
   "display_name": "Python 3",
   "language": "python",
   "name": "python3"
  },
  "language_info": {
   "codemirror_mode": {
    "name": "ipython",
    "version": 3
   },
   "file_extension": ".py",
   "mimetype": "text/x-python",
   "name": "python",
   "nbconvert_exporter": "python",
   "pygments_lexer": "ipython3",
   "version": "3.6.5"
  }
 },
 "nbformat": 4,
 "nbformat_minor": 2
}
